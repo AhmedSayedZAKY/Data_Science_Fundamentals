{
 "cells": [
  {
   "cell_type": "code",
   "execution_count": 1,
   "metadata": {
    "collapsed": true
   },
   "outputs": [],
   "source": [
    "%matplotlib inline\n",
    "import matplotlib\n",
    "import matplotlib.pyplot as plt\n",
    "import numpy as np\n",
    "import sklearn, sys\n",
    "from sklearn.datasets import load_diabetes\n",
    "from sklearn.linear_model import LinearRegression, SGDRegressor\n",
    "from sklearn.preprocessing import StandardScaler\n",
    "import scipy\n",
    "from scipy.linalg import lstsq"
   ]
  },
  {
   "cell_type": "markdown",
   "metadata": {},
   "source": [
    "## Version Numbers"
   ]
  },
  {
   "cell_type": "code",
   "execution_count": 2,
   "metadata": {},
   "outputs": [
    {
     "name": "stdout",
     "output_type": "stream",
     "text": [
      "Python Version: 3.5.4 |Anaconda custom (x86_64)| (default, Aug 14 2017, 12:43:10) \n",
      "[GCC 4.2.1 Compatible Apple LLVM 6.0 (clang-600.0.57)] \n",
      "\n",
      "Matplotlib Version: 2.0.2\n",
      "Numpy Version: 1.13.1\n",
      "Scipy Version: 0.19.1\n",
      "Sklearn Version: 0.19.0\n"
     ]
    }
   ],
   "source": [
    "libraries = (('Matplotlib', matplotlib), ('Numpy', np), ('Scipy', scipy), ('Sklearn', sklearn))\n",
    "\n",
    "print(\"Python Version:\", sys.version, '\\n')\n",
    "for lib in libraries:\n",
    "    print('{0} Version: {1}'.format(lib[0], lib[1].__version__))"
   ]
  },
  {
   "cell_type": "markdown",
   "metadata": {},
   "source": [
    "---"
   ]
  },
  {
   "cell_type": "markdown",
   "metadata": {},
   "source": [
    "## Get Data"
   ]
  },
  {
   "cell_type": "code",
   "execution_count": 3,
   "metadata": {
    "collapsed": true
   },
   "outputs": [],
   "source": [
    "X = np.random.randint(1,20,10)\n",
    "X_wbias = np.c_[np.ones(X.shape[0]), X]\n",
    "y = np.dot(X, 0.5) + np.random.normal(loc=4, scale=4)"
   ]
  },
  {
   "cell_type": "code",
   "execution_count": 4,
   "metadata": {},
   "outputs": [
    {
     "data": {
      "text/plain": [
       "array([13,  4,  5,  4,  9,  7,  8, 19, 16, 18])"
      ]
     },
     "execution_count": 4,
     "metadata": {},
     "output_type": "execute_result"
    }
   ],
   "source": [
    "X"
   ]
  },
  {
   "cell_type": "code",
   "execution_count": 5,
   "metadata": {},
   "outputs": [
    {
     "data": {
      "text/plain": [
       "array([[  1.,  13.],\n",
       "       [  1.,   4.],\n",
       "       [  1.,   5.],\n",
       "       [  1.,   4.],\n",
       "       [  1.,   9.],\n",
       "       [  1.,   7.],\n",
       "       [  1.,   8.],\n",
       "       [  1.,  19.],\n",
       "       [  1.,  16.],\n",
       "       [  1.,  18.]])"
      ]
     },
     "execution_count": 5,
     "metadata": {},
     "output_type": "execute_result"
    }
   ],
   "source": [
    "X_wbias"
   ]
  },
  {
   "cell_type": "code",
   "execution_count": 6,
   "metadata": {},
   "outputs": [
    {
     "data": {
      "text/plain": [
       "array([ 10.26802364,   5.76802364,   6.26802364,   5.76802364,\n",
       "         8.26802364,   7.26802364,   7.76802364,  13.26802364,\n",
       "        11.76802364,  12.76802364])"
      ]
     },
     "execution_count": 6,
     "metadata": {},
     "output_type": "execute_result"
    }
   ],
   "source": [
    "y"
   ]
  },
  {
   "cell_type": "code",
   "execution_count": 7,
   "metadata": {},
   "outputs": [
    {
     "name": "stdout",
     "output_type": "stream",
     "text": [
      "dimensionality of features: (10,)\n",
      "dimensionality of target: (10,)\n"
     ]
    }
   ],
   "source": [
    "print('dimensionality of features:', X.shape)\n",
    "print('dimensionality of target:', y.shape)"
   ]
  },
  {
   "cell_type": "code",
   "execution_count": 8,
   "metadata": {},
   "outputs": [
    {
     "data": {
      "image/png": "[encoded data removed]",
      "text/plain": [
       "<matplotlib.figure.Figure at 0x1197814a8>"
      ]
     },
     "metadata": {},
     "output_type": "display_data"
    }
   ],
   "source": [
    "plt.plot(X, y);\n",
    "plt.title('Plot of Target ~ Single Feature')\n",
    "plt.xlabel('Feature 1')\n",
    "plt.ylabel('Target');"
   ]
  },
  {
   "cell_type": "markdown",
   "metadata": {},
   "source": [
    "---"
   ]
  },
  {
   "cell_type": "markdown",
   "metadata": {},
   "source": [
    "## 1. Sklearn"
   ]
  },
  {
   "cell_type": "code",
   "execution_count": 9,
   "metadata": {},
   "outputs": [
    {
     "data": {
      "text/plain": [
       "LinearRegression(copy_X=True, fit_intercept=True, n_jobs=1, normalize=False)"
      ]
     },
     "execution_count": 9,
     "metadata": {},
     "output_type": "execute_result"
    }
   ],
   "source": [
    "from sklearn.linear_model import LinearRegression\n",
    "lr = LinearRegression()\n",
    "lr.fit(X.reshape(-1, 1), y)"
   ]
  },
  {
   "cell_type": "code",
   "execution_count": 10,
   "metadata": {},
   "outputs": [
    {
     "data": {
      "text/plain": [
       "3.768023643923363"
      ]
     },
     "execution_count": 10,
     "metadata": {},
     "output_type": "execute_result"
    }
   ],
   "source": [
    "lr.intercept_"
   ]
  },
  {
   "cell_type": "code",
   "execution_count": 11,
   "metadata": {},
   "outputs": [
    {
     "data": {
      "text/plain": [
       "array([ 0.5])"
      ]
     },
     "execution_count": 11,
     "metadata": {},
     "output_type": "execute_result"
    }
   ],
   "source": [
    "lr.coef_"
   ]
  },
  {
   "cell_type": "code",
   "execution_count": 12,
   "metadata": {},
   "outputs": [
    {
     "data": {
      "text/plain": [
       "[3.768023643923363, array([ 0.5])]"
      ]
     },
     "execution_count": 12,
     "metadata": {},
     "output_type": "execute_result"
    }
   ],
   "source": [
    "sklearn_coef = [lr.intercept_, lr.coef_]\n",
    "sklearn_coef"
   ]
  },
  {
   "cell_type": "markdown",
   "metadata": {},
   "source": [
    "---"
   ]
  },
  {
   "cell_type": "markdown",
   "metadata": {},
   "source": [
    "## 2. Scipy Least Squares Solution"
   ]
  },
  {
   "cell_type": "code",
   "execution_count": 13,
   "metadata": {},
   "outputs": [
    {
     "data": {
      "text/plain": [
       "array([ 3.76802364,  0.5       ])"
      ]
     },
     "execution_count": 13,
     "metadata": {},
     "output_type": "execute_result"
    }
   ],
   "source": [
    "sp_coef, residue, rank, s = lstsq(X_wbias, y)\n",
    "sp_coef"
   ]
  },
  {
   "cell_type": "markdown",
   "metadata": {},
   "source": [
    "---"
   ]
  },
  {
   "cell_type": "markdown",
   "metadata": {},
   "source": [
    "## 3. Coefficients w/Linear Algebra\n",
    "The closed form solution for finding linear regression coefficients: $\\hat{\\theta}$ = ($X^TX)^{-1}X^TY$"
   ]
  },
  {
   "cell_type": "code",
   "execution_count": 14,
   "metadata": {},
   "outputs": [],
   "source": [
    "xtx = np.dot(X_wbias.T, X_wbias)\n",
    "inv_xtx = np.linalg.inv(xtx)\n",
    "xty = np.dot(X_wbias.T, y)"
   ]
  },
  {
   "cell_type": "code",
   "execution_count": 15,
   "metadata": {},
   "outputs": [
    {
     "data": {
      "text/plain": [
       "array([ 3.76802364,  0.5       ])"
      ]
     },
     "execution_count": 15,
     "metadata": {},
     "output_type": "execute_result"
    }
   ],
   "source": [
    "la_coef = np.dot(inv_xtx, xty)\n",
    "la_coef"
   ]
  },
  {
   "cell_type": "markdown",
   "metadata": {},
   "source": [
    "---"
   ]
  },
  {
   "cell_type": "markdown",
   "metadata": {},
   "source": [
    "## 4. Coefficients w/Gradient Descent"
   ]
  },
  {
   "cell_type": "code",
   "execution_count": 16,
   "metadata": {
    "collapsed": true
   },
   "outputs": [],
   "source": [
    "class batch_gradient_descent:\n",
    "        \n",
    "    def __init__(self, X, y, alpha=0.01, max_iter=5, seed=None):\n",
    "        self._data = np.c_[np.ones(X.shape[0]), X]\n",
    "        self._target = y\n",
    "        self.alpha_ = alpha\n",
    "        self._nbobservations = self._data.shape[0]\n",
    "        self._nbfeatures = self._data.shape[1]\n",
    "        self.max_iter_ = max_iter\n",
    "        self._seed = seed\n",
    "        if self._seed is not None:\n",
    "            np.random.seed(self._seed)\n",
    "        self.coef_ = np.random.randn(self._data.shape[1])\n",
    "        self._iteration = 0\n",
    "    \n",
    "    def predict(self, X_train):\n",
    "        '''returns predictions given inputs'''\n",
    "        return np.dot(X_train, self.coef_)\n",
    "    \n",
    "    def mse(self):\n",
    "        '''returns mean squared error'''\n",
    "        return np.mean( (self.predict(self._data) - self._target) ** 2)\n",
    "    \n",
    "    def _update_weights(self):\n",
    "        '''update model weights'''\n",
    "        loss = self.predict(self._data) - y\n",
    "        cost = np.sum(np.power(loss, 2)) / (2 * self._nbobservations)\n",
    "        gradient = np.dot(self._data.T, loss) / self._nbobservations\n",
    "        self.coef_ = self.coef_ - self.alpha_ * gradient\n",
    "        \n",
    "    def fit(self):\n",
    "        '''run gradient descent on training data'''\n",
    "        for _ in range(self.max_iter_):\n",
    "            if _ % 10 == 0:\n",
    "                print('Epoch: {0} \\nMSE: {1}, \\nCoefs: {2}\\n'.format(self._iteration, self.mse(), self.coef_))\n",
    "            self._iteration += 1\n",
    "            self._update_weights()"
   ]
  },
  {
   "cell_type": "code",
   "execution_count": 17,
   "metadata": {
    "collapsed": true
   },
   "outputs": [],
   "source": [
    "def plot(X, y, obj):\n",
    "    '''plot actual vs predicted values'''\n",
    "    plt.plot(X, y, color='darkblue');\n",
    "    plt.plot(X, obj.predict(np.c_[np.ones(X.size), X]), color='darkorange');\n",
    "    plt.legend(['actual', 'predicted'])"
   ]
  },
  {
   "cell_type": "code",
   "execution_count": 18,
   "metadata": {
    "collapsed": true
   },
   "outputs": [],
   "source": [
    "gd = batch_gradient_descent(X=X, y=y, alpha=0.01, max_iter=1000, seed=35)"
   ]
  },
  {
   "cell_type": "code",
   "execution_count": 19,
   "metadata": {},
   "outputs": [
    {
     "data": {
      "text/plain": [
       "array([-1.88973671, -0.41359218])"
      ]
     },
     "execution_count": 19,
     "metadata": {},
     "output_type": "execute_result"
    }
   ],
   "source": [
    "gd.coef_"
   ]
  },
  {
   "cell_type": "code",
   "execution_count": 20,
   "metadata": {},
   "outputs": [
    {
     "data": {
      "image/png": "[encoded data removed]",
      "text/plain": [
       "<matplotlib.figure.Figure at 0x1198be208>"
      ]
     },
     "metadata": {},
     "output_type": "display_data"
    }
   ],
   "source": [
    "plot(X, y, gd)\n",
    "plt.title('Intitialization');"
   ]
  },
  {
   "cell_type": "code",
   "execution_count": 21,
   "metadata": {},
   "outputs": [
    {
     "name": "stdout",
     "output_type": "stream",
     "text": [
      "Epoch: 0 \n",
      "MSE: 252.0852528400682, \n",
      "Coefs: [-1.88973671 -0.41359218]\n",
      "\n",
      "Epoch: 10 \n",
      "MSE: 6.515731274898163, \n",
      "Coefs: [-1.66793329  0.91199258]\n",
      "\n",
      "Epoch: 20 \n",
      "MSE: 6.235899571321581, \n",
      "Coefs: [-1.54991868  0.90310936]\n",
      "\n",
      "Epoch: 30 \n",
      "MSE: 5.9680863123616685, \n",
      "Coefs: [-1.43447067  0.8943582 ]\n",
      "\n",
      "Epoch: 40 \n",
      "MSE: 5.711774832873091, \n",
      "Coefs: [-1.32152894  0.88579702]\n",
      "\n",
      "Epoch: 50 \n",
      "MSE: 5.466471165785205, \n",
      "Coefs: [-1.21103908  0.8774217 ]\n",
      "\n",
      "Epoch: 60 \n",
      "MSE: 5.2317025584375, \n",
      "Coefs: [-1.10294786  0.86922819]\n",
      "\n",
      "Epoch: 70 \n",
      "MSE: 5.0070165614840345, \n",
      "Coefs: [-0.99720321  0.86121256]\n",
      "\n",
      "Epoch: 80 \n",
      "MSE: 4.791980156926751, \n",
      "Coefs: [-0.89375418  0.85337094]\n",
      "\n",
      "Epoch: 90 \n",
      "MSE: 4.586178923597107, \n",
      "Coefs: [-0.79255095  0.84569956]\n",
      "\n",
      "Epoch: 100 \n",
      "MSE: 4.389216238477802, \n",
      "Coefs: [-0.69354475  0.83819472]\n",
      "\n",
      "Epoch: 110 \n",
      "MSE: 4.2007125123253655, \n",
      "Coefs: [-0.59668789  0.8308528 ]\n",
      "\n",
      "Epoch: 120 \n",
      "MSE: 4.020304458120426, \n",
      "Coefs: [-0.50193372  0.82367026]\n",
      "\n",
      "Epoch: 130 \n",
      "MSE: 3.8476443909359084, \n",
      "Coefs: [-0.40923657  0.81664366]\n",
      "\n",
      "Epoch: 140 \n",
      "MSE: 3.682399557873758, \n",
      "Coefs: [-0.3185518   0.80976959]\n",
      "\n",
      "Epoch: 150 \n",
      "MSE: 3.5242514967789056, \n",
      "Coefs: [-0.22983572  0.80304476]\n",
      "\n",
      "Epoch: 160 \n",
      "MSE: 3.3728954224945547, \n",
      "Coefs: [-0.14304559  0.79646591]\n",
      "\n",
      "Epoch: 170 \n",
      "MSE: 3.228039639475938, \n",
      "Coefs: [-0.05813961  0.79002989]\n",
      "\n",
      "Epoch: 180 \n",
      "MSE: 3.0894049796306042, \n",
      "Coefs: [ 0.02492315  0.78373359]\n",
      "\n",
      "Epoch: 190 \n",
      "MSE: 2.956724264301748, \n",
      "Coefs: [ 0.10618268  0.77757397]\n",
      "\n",
      "Epoch: 200 \n",
      "MSE: 2.8297417893577705, \n",
      "Coefs: [ 0.18567813  0.77154808]\n",
      "\n",
      "Epoch: 210 \n",
      "MSE: 2.708212832395696, \n",
      "Coefs: [ 0.26344781  0.765653  ]\n",
      "\n",
      "Epoch: 220 \n",
      "MSE: 2.5919031811087323, \n",
      "Coefs: [ 0.33952917  0.7598859 ]\n",
      "\n",
      "Epoch: 230 \n",
      "MSE: 2.48058868190903, \n",
      "Coefs: [ 0.41395887  0.754244  ]\n",
      "\n",
      "Epoch: 240 \n",
      "MSE: 2.3740548079357624, \n",
      "Coefs: [ 0.48677277  0.74872458]\n",
      "\n",
      "Epoch: 250 \n",
      "MSE: 2.272096245615944, \n",
      "Coefs: [ 0.55800593  0.74332498]\n",
      "\n",
      "Epoch: 260 \n",
      "MSE: 2.1745164989812444, \n",
      "Coefs: [ 0.62769269  0.7380426 ]\n",
      "\n",
      "Epoch: 270 \n",
      "MSE: 2.0811275109782104, \n",
      "Coefs: [ 0.69586661  0.7328749 ]\n",
      "\n",
      "Epoch: 280 \n",
      "MSE: 1.9917493010420801, \n",
      "Coefs: [ 0.76256052  0.72781938]\n",
      "\n",
      "Epoch: 290 \n",
      "MSE: 1.9062096182357144, \n",
      "Coefs: [ 0.82780657  0.72287362]\n",
      "\n",
      "Epoch: 300 \n",
      "MSE: 1.8243436092851801, \n",
      "Coefs: [ 0.89163619  0.71803522]\n",
      "\n",
      "Epoch: 310 \n",
      "MSE: 1.7459935008722236, \n",
      "Coefs: [ 0.95408011  0.71330186]\n",
      "\n",
      "Epoch: 320 \n",
      "MSE: 1.671008295571312, \n",
      "Coefs: [ 1.01516844  0.70867126]\n",
      "\n",
      "Epoch: 330 \n",
      "MSE: 1.599243480845285, \n",
      "Coefs: [ 1.07493058  0.70414118]\n",
      "\n",
      "Epoch: 340 \n",
      "MSE: 1.5305607505387735, \n",
      "Coefs: [ 1.13339534  0.69970945]\n",
      "\n",
      "Epoch: 350 \n",
      "MSE: 1.4648277383326378, \n",
      "Coefs: [ 1.19059088  0.69537393]\n",
      "\n",
      "Epoch: 360 \n",
      "MSE: 1.4019177626457449, \n",
      "Coefs: [ 1.24654476  0.69113253]\n",
      "\n",
      "Epoch: 370 \n",
      "MSE: 1.341709582492456, \n",
      "Coefs: [ 1.30128392  0.6869832 ]\n",
      "\n",
      "Epoch: 380 \n",
      "MSE: 1.2840871638252973, \n",
      "Coefs: [ 1.35483475  0.68292395]\n",
      "\n",
      "Epoch: 390 \n",
      "MSE: 1.228939455912521, \n",
      "Coefs: [ 1.40722303  0.67895283]\n",
      "\n",
      "Epoch: 400 \n",
      "MSE: 1.1761601773195858, \n",
      "Coefs: [ 1.458474    0.67506792]\n",
      "\n",
      "Epoch: 410 \n",
      "MSE: 1.1256476110820774, \n",
      "Coefs: [ 1.50861236  0.67126734]\n",
      "\n",
      "Epoch: 420 \n",
      "MSE: 1.077304408675365, \n",
      "Coefs: [ 1.55766226  0.66754927]\n",
      "\n",
      "Epoch: 430 \n",
      "MSE: 1.0310374024031514, \n",
      "Coefs: [ 1.60564733  0.66391192]\n",
      "\n",
      "Epoch: 440 \n",
      "MSE: 0.9867574258433895, \n",
      "Coefs: [ 1.65259068  0.66035353]\n",
      "\n",
      "Epoch: 450 \n",
      "MSE: 0.9443791420055042, \n",
      "Coefs: [ 1.69851493  0.65687239]\n",
      "\n",
      "Epoch: 460 \n",
      "MSE: 0.903820878867751, \n",
      "Coefs: [ 1.7434422   0.65346683]\n",
      "\n",
      "Epoch: 470 \n",
      "MSE: 0.8650044719777522, \n",
      "Coefs: [ 1.78739415  0.65013519]\n",
      "\n",
      "Epoch: 480 \n",
      "MSE: 0.8278551138128705, \n",
      "Coefs: [ 1.83039193  0.64687589]\n",
      "\n",
      "Epoch: 490 \n",
      "MSE: 0.7923012096101022, \n",
      "Coefs: [ 1.87245627  0.64368733]\n",
      "\n",
      "Epoch: 500 \n",
      "MSE: 0.7582742393876495, \n",
      "Coefs: [ 1.91360742  0.640568  ]\n",
      "\n",
      "Epoch: 510 \n",
      "MSE: 0.7257086258922552, \n",
      "Coefs: [ 1.95386522  0.63751639]\n",
      "\n",
      "Epoch: 520 \n",
      "MSE: 0.6945416082177972, \n",
      "Coefs: [ 1.99324906  0.63453103]\n",
      "\n",
      "Epoch: 530 \n",
      "MSE: 0.6647131208515958, \n",
      "Coefs: [ 2.03177791  0.63161047]\n",
      "\n",
      "Epoch: 540 \n",
      "MSE: 0.6361656779153143, \n",
      "Coefs: [ 2.06947033  0.62875332]\n",
      "\n",
      "Epoch: 550 \n",
      "MSE: 0.6088442623773742, \n",
      "Coefs: [ 2.10634448  0.6259582 ]\n",
      "\n",
      "Epoch: 560 \n",
      "MSE: 0.5826962200233551, \n",
      "Coefs: [ 2.14241812  0.62322375]\n",
      "\n",
      "Epoch: 570 \n",
      "MSE: 0.5576711579800601, \n",
      "Coefs: [ 2.17770863  0.62054867]\n",
      "\n",
      "Epoch: 580 \n",
      "MSE: 0.5337208475976674, \n",
      "Coefs: [ 2.21223302  0.61793166]\n",
      "\n",
      "Epoch: 590 \n",
      "MSE: 0.5107991315027933, \n",
      "Coefs: [ 2.24600791  0.61537146]\n",
      "\n",
      "Epoch: 600 \n",
      "MSE: 0.48886183464336586, \n",
      "Coefs: [ 2.27904958  0.61286685]\n",
      "\n",
      "Epoch: 610 \n",
      "MSE: 0.46786667915384095, \n",
      "Coefs: [ 2.31137394  0.6104166 ]\n",
      "\n",
      "Epoch: 620 \n",
      "MSE: 0.4477732028767063, \n",
      "Coefs: [ 2.34299657  0.60801955]\n",
      "\n",
      "Epoch: 630 \n",
      "MSE: 0.42854268138325075, \n",
      "Coefs: [ 2.37393269  0.60567454]\n",
      "\n",
      "Epoch: 640 \n",
      "MSE: 0.4101380533432984, \n",
      "Coefs: [ 2.40419722  0.60338044]\n",
      "\n",
      "Epoch: 650 \n",
      "MSE: 0.392523849100098, \n",
      "Coefs: [ 2.43380474  0.60113614]\n",
      "\n",
      "Epoch: 660 \n",
      "MSE: 0.37566612231270125, \n",
      "Coefs: [ 2.46276949  0.59894056]\n",
      "\n",
      "Epoch: 670 \n",
      "MSE: 0.35953238453409986, \n",
      "Coefs: [ 2.49110545  0.59679264]\n",
      "\n",
      "Epoch: 680 \n",
      "MSE: 0.34409154259903607, \n",
      "Coefs: [ 2.51882626  0.59469135]\n",
      "\n",
      "Epoch: 690 \n",
      "MSE: 0.3293138387008221, \n",
      "Coefs: [ 2.54594527  0.59263569]\n",
      "\n",
      "Epoch: 700 \n",
      "MSE: 0.31517079304167284, \n",
      "Coefs: [ 2.57247556  0.59062464]\n",
      "\n",
      "Epoch: 710 \n",
      "MSE: 0.3016351489460481, \n",
      "Coefs: [ 2.59842989  0.58865726]\n",
      "\n",
      "Epoch: 720 \n",
      "MSE: 0.2886808203311988, \n",
      "Coefs: [ 2.62382078  0.58673259]\n",
      "\n",
      "Epoch: 730 \n",
      "MSE: 0.2762828414337073, \n",
      "Coefs: [ 2.64866045  0.5848497 ]\n",
      "\n",
      "Epoch: 740 \n",
      "MSE: 0.2644173186951197, \n",
      "Coefs: [ 2.67296087  0.58300768]\n",
      "\n",
      "Epoch: 750 \n",
      "MSE: 0.2530613847139413, \n",
      "Coefs: [ 2.69673375  0.58120565]\n",
      "\n",
      "Epoch: 760 \n",
      "MSE: 0.2421931541752662, \n",
      "Coefs: [ 2.71999055  0.57944275]\n",
      "\n",
      "Epoch: 770 \n",
      "MSE: 0.2317916816730857, \n",
      "Coefs: [ 2.74274245  0.57771811]\n",
      "\n",
      "Epoch: 780 \n",
      "MSE: 0.2218369213440142, \n",
      "Coefs: [ 2.76500044  0.57603092]\n",
      "\n",
      "Epoch: 790 \n",
      "MSE: 0.21230968823461657, \n",
      "Coefs: [ 2.78677522  0.57438035]\n",
      "\n",
      "Epoch: 800 \n",
      "MSE: 0.20319162132789953, \n",
      "Coefs: [ 2.80807729  0.57276562]\n",
      "\n",
      "Epoch: 810 \n",
      "MSE: 0.19446514815770363, \n",
      "Coefs: [ 2.82891691  0.57118594]\n",
      "\n",
      "Epoch: 820 \n",
      "MSE: 0.1861134509427983, \n",
      "Coefs: [ 2.84930412  0.56964055]\n",
      "\n",
      "Epoch: 830 \n",
      "MSE: 0.178120434175419, \n",
      "Coefs: [ 2.86924874  0.56812872]\n",
      "\n",
      "Epoch: 840 \n",
      "MSE: 0.17047069360178055, \n",
      "Coefs: [ 2.88876038  0.5666497 ]\n",
      "\n",
      "Epoch: 850 \n",
      "MSE: 0.16314948653478237, \n",
      "Coefs: [ 2.90784843  0.56520279]\n",
      "\n",
      "Epoch: 860 \n",
      "MSE: 0.15614270344169678, \n",
      "Coefs: [ 2.92652211  0.56378729]\n",
      "\n",
      "Epoch: 870 \n",
      "MSE: 0.14943684075207844, \n",
      "Coefs: [ 2.94479039  0.56240253]\n",
      "\n",
      "Epoch: 880 \n",
      "MSE: 0.14301897483349615, \n",
      "Coefs: [ 2.96266208  0.56104782]\n",
      "\n",
      "Epoch: 890 \n",
      "MSE: 0.13687673708492593, \n",
      "Coefs: [ 2.9801458   0.55972252]\n",
      "\n",
      "Epoch: 900 \n",
      "MSE: 0.13099829009981115, \n",
      "Coefs: [ 2.99724996  0.558426  ]\n",
      "\n",
      "Epoch: 910 \n",
      "MSE: 0.12537230485284695, \n",
      "Coefs: [ 3.0139828   0.55715762]\n",
      "\n",
      "Epoch: 920 \n",
      "MSE: 0.11998793886652322, \n",
      "Coefs: [ 3.03035238  0.55591678]\n",
      "\n",
      "Epoch: 930 \n",
      "MSE: 0.1148348153153503, \n",
      "Coefs: [ 3.0463666   0.55470287]\n",
      "\n",
      "Epoch: 940 \n",
      "MSE: 0.10990300302749678, \n",
      "Coefs: [ 3.06203316  0.55351532]\n",
      "\n",
      "Epoch: 950 \n",
      "MSE: 0.1051829973452953, \n",
      "Coefs: [ 3.07735962  0.55235355]\n",
      "\n",
      "Epoch: 960 \n",
      "MSE: 0.1006657018077332, \n",
      "Coefs: [ 3.09235334  0.55121699]\n",
      "\n",
      "Epoch: 970 \n",
      "MSE: 0.09634241061962641, \n",
      "Coefs: [ 3.10702157  0.55010512]\n",
      "\n",
      "Epoch: 980 \n",
      "MSE: 0.09220479187368671, \n",
      "Coefs: [ 3.12137137  0.54901738]\n",
      "\n",
      "Epoch: 990 \n",
      "MSE: 0.08824487149315707, \n",
      "Coefs: [ 3.13540964  0.54795325]\n",
      "\n"
     ]
    }
   ],
   "source": [
    "gd.fit()"
   ]
  },
  {
   "cell_type": "code",
   "execution_count": 22,
   "metadata": {},
   "outputs": [
    {
     "data": {
      "text/plain": [
       "array([ 3.14914315,  0.54691223])"
      ]
     },
     "execution_count": 22,
     "metadata": {},
     "output_type": "execute_result"
    }
   ],
   "source": [
    "gd.coef_"
   ]
  },
  {
   "cell_type": "code",
   "execution_count": 23,
   "metadata": {},
   "outputs": [
    {
     "data": {
      "image/png": "[encoded data removed]",
      "text/plain": [
       "<matplotlib.figure.Figure at 0x11cc510b8>"
      ]
     },
     "metadata": {},
     "output_type": "display_data"
    }
   ],
   "source": [
    "plot(X, y, gd)\n",
    "plt.title('Intitialization');"
   ]
  },
  {
   "cell_type": "markdown",
   "metadata": {},
   "source": [
    "---"
   ]
  },
  {
   "cell_type": "markdown",
   "metadata": {},
   "source": [
    "## Side-by-Side"
   ]
  },
  {
   "cell_type": "code",
   "execution_count": 24,
   "metadata": {},
   "outputs": [
    {
     "data": {
      "text/html": [
       "<div>\n",
       "<style>\n",
       "    .dataframe thead tr:only-child th {\n",
       "        text-align: right;\n",
       "    }\n",
       "\n",
       "    .dataframe thead th {\n",
       "        text-align: left;\n",
       "    }\n",
       "\n",
       "    .dataframe tbody tr th {\n",
       "        vertical-align: top;\n",
       "    }\n",
       "</style>\n",
       "<table border=\"1\" class=\"dataframe\">\n",
       "  <thead>\n",
       "    <tr style=\"text-align: right;\">\n",
       "      <th></th>\n",
       "      <th>analytic</th>\n",
       "      <th>scipy</th>\n",
       "      <th>sklearn</th>\n",
       "      <th>grad desc</th>\n",
       "    </tr>\n",
       "  </thead>\n",
       "  <tbody>\n",
       "    <tr>\n",
       "      <th>theta0</th>\n",
       "      <td>3.768024</td>\n",
       "      <td>3.768024</td>\n",
       "      <td>3.768024</td>\n",
       "      <td>3.149143</td>\n",
       "    </tr>\n",
       "    <tr>\n",
       "      <th>theta1</th>\n",
       "      <td>0.500000</td>\n",
       "      <td>0.500000</td>\n",
       "      <td>0.500000</td>\n",
       "      <td>0.546912</td>\n",
       "    </tr>\n",
       "  </tbody>\n",
       "</table>\n",
       "</div>"
      ],
      "text/plain": [
       "        analytic     scipy   sklearn  grad desc\n",
       "theta0  3.768024  3.768024  3.768024   3.149143\n",
       "theta1  0.500000  0.500000  0.500000   0.546912"
      ]
     },
     "execution_count": 24,
     "metadata": {},
     "output_type": "execute_result"
    }
   ],
   "source": [
    "# Compare Scratch & Sklearn coefficients\n",
    "import pandas as pd\n",
    "pd.DataFrame(data=np.matrix([la_coef, sp_coef, sklearn_coef, gd.coef_]).reshape(4, 2).T, \n",
    "             index = ['theta0', 'theta1'],\n",
    "             columns=['analytic', 'scipy', 'sklearn', 'grad desc'])"
   ]
  }
 ],
 "metadata": {
  "kernelspec": {
   "display_name": "Python [default]",
   "language": "python",
   "name": "python3"
  },
  "language_info": {
   "codemirror_mode": {
    "name": "ipython",
    "version": 3
   },
   "file_extension": ".py",
   "mimetype": "text/x-python",
   "name": "python",
   "nbconvert_exporter": "python",
   "pygments_lexer": "ipython3",
   "version": "3.5.4"
  }
 },
 "nbformat": 4,
 "nbformat_minor": 2
}
