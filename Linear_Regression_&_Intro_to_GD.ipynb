{
 "cells": [
  {
   "cell_type": "code",
   "execution_count": 1,
   "metadata": {
    "collapsed": true
   },
   "outputs": [],
   "source": [
    "%matplotlib inline\n",
    "import matplotlib\n",
    "import matplotlib.pyplot as plt\n",
    "import numpy as np\n",
    "import pandas as pd\n",
    "import sklearn, sys\n",
    "from sklearn.datasets import load_diabetes\n",
    "from sklearn.linear_model import LinearRegression, SGDRegressor\n",
    "from sklearn.preprocessing import StandardScaler\n",
    "import scipy\n",
    "from scipy.linalg import lstsq"
   ]
  },
  {
   "cell_type": "markdown",
   "metadata": {},
   "source": [
    "## Version Numbers"
   ]
  },
  {
   "cell_type": "code",
   "execution_count": 2,
   "metadata": {},
   "outputs": [
    {
     "name": "stdout",
     "output_type": "stream",
     "text": [
      "Python Version: 3.5.4 |Anaconda custom (x86_64)| (default, Aug 14 2017, 12:43:10) \n",
      "[GCC 4.2.1 Compatible Apple LLVM 6.0 (clang-600.0.57)] \n",
      "\n",
      "Matplotlib Version: 2.0.2\n",
      "Numpy Version: 1.13.1\n",
      "Pandas Version: 0.20.3\n",
      "Scipy Version: 0.19.1\n",
      "Sklearn Version: 0.19.0\n"
     ]
    }
   ],
   "source": [
    "libraries = (('Matplotlib', matplotlib), ('Numpy', np), ('Pandas', pd), ('Scipy', scipy), ('Sklearn', sklearn))\n",
    "\n",
    "print(\"Python Version:\", sys.version, '\\n')\n",
    "for lib in libraries:\n",
    "    print('{0} Version: {1}'.format(lib[0], lib[1].__version__))"
   ]
  },
  {
   "cell_type": "markdown",
   "metadata": {},
   "source": [
    "---"
   ]
  },
  {
   "cell_type": "markdown",
   "metadata": {},
   "source": [
    "## Get Data"
   ]
  },
  {
   "cell_type": "code",
   "execution_count": 3,
   "metadata": {
    "collapsed": true
   },
   "outputs": [],
   "source": [
    "np.random.seed(10)\n",
    "X = np.random.randint(1,20,10)\n",
    "X_wbias = np.c_[np.ones(X.shape[0]), X]\n",
    "y = np.dot(X, 0.5) + np.random.normal(loc=4, scale=4)"
   ]
  },
  {
   "cell_type": "code",
   "execution_count": 4,
   "metadata": {},
   "outputs": [
    {
     "data": {
      "text/plain": [
       "array([10,  5, 16,  1, 18, 17, 18,  9, 10,  1])"
      ]
     },
     "execution_count": 4,
     "metadata": {},
     "output_type": "execute_result"
    }
   ],
   "source": [
    "X"
   ]
  },
  {
   "cell_type": "code",
   "execution_count": 5,
   "metadata": {},
   "outputs": [
    {
     "data": {
      "text/plain": [
       "array([[  1.,  10.],\n",
       "       [  1.,   5.],\n",
       "       [  1.,  16.],\n",
       "       [  1.,   1.],\n",
       "       [  1.,  18.],\n",
       "       [  1.,  17.],\n",
       "       [  1.,  18.],\n",
       "       [  1.,   9.],\n",
       "       [  1.,  10.],\n",
       "       [  1.,   1.]])"
      ]
     },
     "execution_count": 5,
     "metadata": {},
     "output_type": "execute_result"
    }
   ],
   "source": [
    "X_wbias"
   ]
  },
  {
   "cell_type": "code",
   "execution_count": 6,
   "metadata": {},
   "outputs": [
    {
     "data": {
      "text/plain": [
       "array([  6.2715046,   3.7715046,   9.2715046,   1.7715046,  10.2715046,\n",
       "         9.7715046,  10.2715046,   5.7715046,   6.2715046,   1.7715046])"
      ]
     },
     "execution_count": 6,
     "metadata": {},
     "output_type": "execute_result"
    }
   ],
   "source": [
    "y"
   ]
  },
  {
   "cell_type": "code",
   "execution_count": 7,
   "metadata": {},
   "outputs": [
    {
     "name": "stdout",
     "output_type": "stream",
     "text": [
      "dimensionality of features: (10,)\n",
      "dimensionality of target: (10,)\n"
     ]
    }
   ],
   "source": [
    "print('dimensionality of features:', X.shape)\n",
    "print('dimensionality of target:', y.shape)"
   ]
  },
  {
   "cell_type": "code",
   "execution_count": 8,
   "metadata": {},
   "outputs": [
    {
     "data": {
      "image/png": "[encoded data removed]",
      "text/plain": [
       "<matplotlib.figure.Figure at 0x10f9d9e48>"
      ]
     },
     "metadata": {},
     "output_type": "display_data"
    }
   ],
   "source": [
    "plt.plot(X, y);\n",
    "plt.title('Plot of Target ~ Single Feature')\n",
    "plt.xlabel('Feature 1')\n",
    "plt.ylabel('Target');"
   ]
  },
  {
   "cell_type": "markdown",
   "metadata": {},
   "source": [
    "---"
   ]
  },
  {
   "cell_type": "markdown",
   "metadata": {},
   "source": [
    "## 1. Sklearn"
   ]
  },
  {
   "cell_type": "code",
   "execution_count": 9,
   "metadata": {},
   "outputs": [
    {
     "data": {
      "text/plain": [
       "LinearRegression(copy_X=True, fit_intercept=True, n_jobs=1, normalize=False)"
      ]
     },
     "execution_count": 9,
     "metadata": {},
     "output_type": "execute_result"
    }
   ],
   "source": [
    "from sklearn.linear_model import LinearRegression\n",
    "lr = LinearRegression()\n",
    "lr.fit(X.reshape(-1, 1), y)"
   ]
  },
  {
   "cell_type": "code",
   "execution_count": 10,
   "metadata": {},
   "outputs": [
    {
     "data": {
      "text/plain": [
       "1.2715046026655648"
      ]
     },
     "execution_count": 10,
     "metadata": {},
     "output_type": "execute_result"
    }
   ],
   "source": [
    "lr.intercept_"
   ]
  },
  {
   "cell_type": "code",
   "execution_count": 11,
   "metadata": {},
   "outputs": [
    {
     "data": {
      "text/plain": [
       "array([ 0.5])"
      ]
     },
     "execution_count": 11,
     "metadata": {},
     "output_type": "execute_result"
    }
   ],
   "source": [
    "lr.coef_"
   ]
  },
  {
   "cell_type": "code",
   "execution_count": 12,
   "metadata": {},
   "outputs": [
    {
     "data": {
      "text/plain": [
       "[1.2715046026655648, array([ 0.5])]"
      ]
     },
     "execution_count": 12,
     "metadata": {},
     "output_type": "execute_result"
    }
   ],
   "source": [
    "sklearn_coef = [lr.intercept_, lr.coef_]\n",
    "sklearn_coef"
   ]
  },
  {
   "cell_type": "markdown",
   "metadata": {},
   "source": [
    "---"
   ]
  },
  {
   "cell_type": "markdown",
   "metadata": {},
   "source": [
    "## 2. Scipy Least Squares Solution"
   ]
  },
  {
   "cell_type": "code",
   "execution_count": 13,
   "metadata": {},
   "outputs": [
    {
     "data": {
      "text/plain": [
       "array([ 1.2715046,  0.5      ])"
      ]
     },
     "execution_count": 13,
     "metadata": {},
     "output_type": "execute_result"
    }
   ],
   "source": [
    "sp_coef, residue, rank, s = lstsq(X_wbias, y)\n",
    "sp_coef"
   ]
  },
  {
   "cell_type": "markdown",
   "metadata": {},
   "source": [
    "---"
   ]
  },
  {
   "cell_type": "markdown",
   "metadata": {},
   "source": [
    "## 3. Coefficients w/Linear Algebra\n",
    "The closed form solution for finding linear regression coefficients: $\\hat{\\theta}$ = ($X^TX)^{-1}X^TY$"
   ]
  },
  {
   "cell_type": "code",
   "execution_count": 14,
   "metadata": {
    "collapsed": true
   },
   "outputs": [],
   "source": [
    "xtx = np.dot(X_wbias.T, X_wbias)\n",
    "inv_xtx = np.linalg.inv(xtx)\n",
    "xty = np.dot(X_wbias.T, y)"
   ]
  },
  {
   "cell_type": "code",
   "execution_count": 15,
   "metadata": {},
   "outputs": [
    {
     "data": {
      "text/plain": [
       "array([ 1.2715046,  0.5      ])"
      ]
     },
     "execution_count": 15,
     "metadata": {},
     "output_type": "execute_result"
    }
   ],
   "source": [
    "la_coef = np.dot(inv_xtx, xty)\n",
    "la_coef"
   ]
  },
  {
   "cell_type": "markdown",
   "metadata": {},
   "source": [
    "---"
   ]
  },
  {
   "cell_type": "markdown",
   "metadata": {},
   "source": [
    "## 4. Coefficients w/Gradient Descent"
   ]
  },
  {
   "cell_type": "code",
   "execution_count": 16,
   "metadata": {
    "collapsed": true
   },
   "outputs": [],
   "source": [
    "class batch_gradient_descent:\n",
    "        \n",
    "    def __init__(self, X, y, alpha=0.01, max_iter=5, seed=None):\n",
    "        self._data = np.c_[np.ones(X.shape[0]), X]\n",
    "        self._target = y\n",
    "        self.alpha_ = alpha\n",
    "        self._nbobservations = self._data.shape[0]\n",
    "        self._nbfeatures = self._data.shape[1]\n",
    "        self.max_iter_ = max_iter\n",
    "        self._seed = seed\n",
    "        if self._seed is not None:\n",
    "            np.random.seed(self._seed)\n",
    "        self.coef_ = np.random.randn(self._data.shape[1])\n",
    "        self._iteration = 0\n",
    "    \n",
    "    def predict(self, X_train):\n",
    "        '''returns predictions given inputs'''\n",
    "        return np.dot(X_train, self.coef_)\n",
    "    \n",
    "    def mse(self):\n",
    "        '''returns mean squared error'''\n",
    "        return np.mean( (self.predict(self._data) - self._target) ** 2)\n",
    "    \n",
    "    def _calc_loss(self):\n",
    "        '''return difference between prediction and target'''\n",
    "        return self.predict(self._data) - self._target\n",
    "    \n",
    "    def _update_weights(self):\n",
    "        '''update model weights'''\n",
    "        loss = self._calc_loss()\n",
    "        cost = np.sum(np.power(loss, 2)) / (2 * self._nbobservations)\n",
    "        gradient = np.dot(self._data.T, loss) / self._nbobservations\n",
    "        self.coef_ = self.coef_ - self.alpha_ * gradient\n",
    "        \n",
    "    def fit(self):\n",
    "        '''run gradient descent on training data'''\n",
    "        for _ in range(self.max_iter_):\n",
    "            if _ % 10 == 0:\n",
    "                print('Epoch: {0} \\nMSE: {1}, \\nCoefs: {2}\\n'.format(self._iteration, self.mse(), self.coef_))\n",
    "            self._iteration += 1\n",
    "            self._update_weights()"
   ]
  },
  {
   "cell_type": "code",
   "execution_count": 17,
   "metadata": {
    "collapsed": true
   },
   "outputs": [],
   "source": [
    "def plot(X, y, obj):\n",
    "    '''plot actual vs predicted values'''\n",
    "    plt.plot(X, y, color='darkblue');\n",
    "    plt.plot(X, obj.predict(np.c_[np.ones(X.size), X]), color='darkorange');\n",
    "    plt.legend(['actual', 'predicted'])"
   ]
  },
  {
   "cell_type": "code",
   "execution_count": 18,
   "metadata": {
    "collapsed": true
   },
   "outputs": [],
   "source": [
    "gd = batch_gradient_descent(X=X, y=y, alpha=0.01, max_iter=1000, seed=35)"
   ]
  },
  {
   "cell_type": "code",
   "execution_count": 19,
   "metadata": {},
   "outputs": [
    {
     "data": {
      "text/plain": [
       "array([-1.88973671, -0.41359218])"
      ]
     },
     "execution_count": 19,
     "metadata": {},
     "output_type": "execute_result"
    }
   ],
   "source": [
    "gd.coef_"
   ]
  },
  {
   "cell_type": "code",
   "execution_count": 20,
   "metadata": {},
   "outputs": [
    {
     "data": {
      "image/png": "[encoded data removed]",
      "text/plain": [
       "<matplotlib.figure.Figure at 0x10fbcea90>"
      ]
     },
     "metadata": {},
     "output_type": "display_data"
    }
   ],
   "source": [
    "plot(X, y, gd)\n",
    "plt.title('Intitialization');"
   ]
  },
  {
   "cell_type": "code",
   "execution_count": 21,
   "metadata": {},
   "outputs": [
    {
     "name": "stdout",
     "output_type": "stream",
     "text": [
      "Epoch: 0 \n",
      "MSE: 195.9243051220614, \n",
      "Coefs: [-1.88973671 -0.41359218]\n",
      "\n",
      "Epoch: 10 \n",
      "MSE: 2.3922638230103646, \n",
      "Coefs: [-1.73020537  0.70904156]\n",
      "\n",
      "Epoch: 20 \n",
      "MSE: 2.2687383245785164, \n",
      "Coefs: [-1.65174928  0.7048505 ]\n",
      "\n",
      "Epoch: 30 \n",
      "MSE: 2.1518222423121136, \n",
      "Coefs: [-1.57543014  0.69950381]\n",
      "\n",
      "Epoch: 40 \n",
      "MSE: 2.040931258154729, \n",
      "Coefs: [-1.5011036   0.69429526]\n",
      "\n",
      "Epoch: 50 \n",
      "MSE: 1.9357548772417943, \n",
      "Coefs: [-1.42871755  0.68922268]\n",
      "\n",
      "Epoch: 60 \n",
      "MSE: 1.8359986059272326, \n",
      "Coefs: [-1.35822133  0.68428254]\n",
      "\n",
      "Epoch: 70 \n",
      "MSE: 1.7413831268604796, \n",
      "Coefs: [-1.28956559  0.67947137]\n",
      "\n",
      "Epoch: 80 \n",
      "MSE: 1.6516435168984913, \n",
      "Coefs: [-1.22270228  0.67478581]\n",
      "\n",
      "Epoch: 90 \n",
      "MSE: 1.5665285053214941, \n",
      "Coefs: [-1.15758462  0.67022258]\n",
      "\n",
      "Epoch: 100 \n",
      "MSE: 1.4857997702754986, \n",
      "Coefs: [-1.09416701  0.66577848]\n",
      "\n",
      "Epoch: 110 \n",
      "MSE: 1.4092312714716062, \n",
      "Coefs: [-1.03240509  0.66145041]\n",
      "\n",
      "Epoch: 120 \n",
      "MSE: 1.3366086172736762, \n",
      "Coefs: [-0.97225562  0.65723533]\n",
      "\n",
      "Epoch: 130 \n",
      "MSE: 1.2677284644021918, \n",
      "Coefs: [-0.9136765  0.6531303]\n",
      "\n",
      "Epoch: 140 \n",
      "MSE: 1.2023979485735077, \n",
      "Coefs: [-0.85662674  0.64913244]\n",
      "\n",
      "Epoch: 150 \n",
      "MSE: 1.1404341444802533, \n",
      "Coefs: [-0.80106642  0.64523895]\n",
      "\n",
      "Epoch: 160 \n",
      "MSE: 1.0816635536008623, \n",
      "Coefs: [-0.74695664  0.64144712]\n",
      "\n",
      "Epoch: 170 \n",
      "MSE: 1.0259216184040725, \n",
      "Coefs: [-0.69425953  0.63775428]\n",
      "\n",
      "Epoch: 180 \n",
      "MSE: 0.9730522615881847, \n",
      "Coefs: [-0.64293821  0.63415785]\n",
      "\n",
      "Epoch: 190 \n",
      "MSE: 0.9229074490649427, \n",
      "Coefs: [-0.59295677  0.63065532]\n",
      "\n",
      "Epoch: 200 \n",
      "MSE: 0.8753467754644018, \n",
      "Coefs: [-0.54428023  0.62724422]\n",
      "\n",
      "Epoch: 210 \n",
      "MSE: 0.8302370710001791, \n",
      "Coefs: [-0.49687451  0.62392219]\n",
      "\n",
      "Epoch: 220 \n",
      "MSE: 0.7874520285943389, \n",
      "Coefs: [-0.45070644  0.62068688]\n",
      "\n",
      "Epoch: 230 \n",
      "MSE: 0.7468718502178349, \n",
      "Coefs: [-0.4057437   0.61753604]\n",
      "\n",
      "Epoch: 240 \n",
      "MSE: 0.708382911456281, \n",
      "Coefs: [-0.36195483  0.61446746]\n",
      "\n",
      "Epoch: 250 \n",
      "MSE: 0.6718774433618278, \n",
      "Coefs: [-0.31930918  0.61147899]\n",
      "\n",
      "Epoch: 260 \n",
      "MSE: 0.6372532307003372, \n",
      "Coefs: [-0.27777691  0.60856855]\n",
      "\n",
      "Epoch: 270 \n",
      "MSE: 0.6044133257489399, \n",
      "Coefs: [-0.23732894  0.60573409]\n",
      "\n",
      "Epoch: 280 \n",
      "MSE: 0.5732657768426138, \n",
      "Coefs: [-0.19793697  0.60297363]\n",
      "\n",
      "Epoch: 290 \n",
      "MSE: 0.5437233709097151, \n",
      "Coefs: [-0.15957343  0.60028524]\n",
      "\n",
      "Epoch: 300 \n",
      "MSE: 0.5157033892755616, \n",
      "Coefs: [-0.12221147  0.59766703]\n",
      "\n",
      "Epoch: 310 \n",
      "MSE: 0.48912737605031537, \n",
      "Coefs: [-0.08582494  0.59511719]\n",
      "\n",
      "Epoch: 320 \n",
      "MSE: 0.4639209184526572, \n",
      "Coefs: [-0.05038837  0.59263391]\n",
      "\n",
      "Epoch: 330 \n",
      "MSE: 0.4400134384541534, \n",
      "Coefs: [-0.01587696  0.59021546]\n",
      "\n",
      "Epoch: 340 \n",
      "MSE: 0.41733799516092535, \n",
      "Coefs: [ 0.01773344  0.58786016]\n",
      "\n",
      "Epoch: 350 \n",
      "MSE: 0.39583109737928596, \n",
      "Coefs: [ 0.05046635  0.58556634]\n",
      "\n",
      "Epoch: 360 \n",
      "MSE: 0.375432525840532, \n",
      "Coefs: [ 0.08234468  0.58333241]\n",
      "\n",
      "Epoch: 370 \n",
      "MSE: 0.35608516458711564, \n",
      "Coefs: [ 0.11339075  0.58115681]\n",
      "\n",
      "Epoch: 380 \n",
      "MSE: 0.33773484104808504, \n",
      "Coefs: [ 0.14362628  0.579038  ]\n",
      "\n",
      "Epoch: 390 \n",
      "MSE: 0.32033017435599903, \n",
      "Coefs: [ 0.17307244  0.57697451]\n",
      "\n",
      "Epoch: 400 \n",
      "MSE: 0.3038224314806047, \n",
      "Coefs: [ 0.20174983  0.57496489]\n",
      "\n",
      "Epoch: 410 \n",
      "MSE: 0.288165390776456, \n",
      "Coefs: [ 0.22967852  0.57300774]\n",
      "\n",
      "Epoch: 420 \n",
      "MSE: 0.2733152125624029, \n",
      "Coefs: [ 0.25687806  0.57110169]\n",
      "\n",
      "Epoch: 430 \n",
      "MSE: 0.2592303163705761, \n",
      "Coefs: [ 0.28336749  0.5692454 ]\n",
      "\n",
      "Epoch: 440 \n",
      "MSE: 0.24587126452116542, \n",
      "Coefs: [ 0.30916534  0.56743757]\n",
      "\n",
      "Epoch: 450 \n",
      "MSE: 0.23320065169699608, \n",
      "Coefs: [ 0.33428968  0.56567694]\n",
      "\n",
      "Epoch: 460 \n",
      "MSE: 0.22118300020872242, \n",
      "Coefs: [ 0.35875808  0.56396227]\n",
      "\n",
      "Epoch: 470 \n",
      "MSE: 0.20978466065736895, \n",
      "Coefs: [ 0.38258767  0.56229237]\n",
      "\n",
      "Epoch: 480 \n",
      "MSE: 0.1989737177160867, \n",
      "Coefs: [ 0.40579512  0.56066607]\n",
      "\n",
      "Epoch: 490 \n",
      "MSE: 0.18871990076730258, \n",
      "Coefs: [ 0.42839669  0.55908223]\n",
      "\n",
      "Epoch: 500 \n",
      "MSE: 0.17899449914505533, \n",
      "Coefs: [ 0.45040818  0.55753973]\n",
      "\n",
      "Epoch: 510 \n",
      "MSE: 0.16977028174518977, \n",
      "Coefs: [ 0.47184501  0.55603751]\n",
      "\n",
      "Epoch: 520 \n",
      "MSE: 0.16102142077832315, \n",
      "Coefs: [ 0.49272218  0.55457451]\n",
      "\n",
      "Epoch: 530 \n",
      "MSE: 0.15272341945208753, \n",
      "Coefs: [ 0.51305429  0.5531497 ]\n",
      "\n",
      "Epoch: 540 \n",
      "MSE: 0.14485304338016558, \n",
      "Coefs: [ 0.53285558  0.55176209]\n",
      "\n",
      "Epoch: 550 \n",
      "MSE: 0.13738825552605402, \n",
      "Coefs: [ 0.55213991  0.55041071]\n",
      "\n",
      "Epoch: 560 \n",
      "MSE: 0.13030815449940944, \n",
      "Coefs: [ 0.57092077  0.54909461]\n",
      "\n",
      "Epoch: 570 \n",
      "MSE: 0.12359291603219968, \n",
      "Coefs: [ 0.58921131  0.54781287]\n",
      "\n",
      "Epoch: 580 \n",
      "MSE: 0.11722373747079344, \n",
      "Coefs: [ 0.60702432  0.54656459]\n",
      "\n",
      "Epoch: 590 \n",
      "MSE: 0.11118278512857031, \n",
      "Coefs: [ 0.62437228  0.5453489 ]\n",
      "\n",
      "Epoch: 600 \n",
      "MSE: 0.10545314435163584, \n",
      "Coefs: [ 0.64126733  0.54416495]\n",
      "\n",
      "Epoch: 610 \n",
      "MSE: 0.10001877215782554, \n",
      "Coefs: [ 0.65772129  0.54301191]\n",
      "\n",
      "Epoch: 620 \n",
      "MSE: 0.0948644523163886, \n",
      "Coefs: [ 0.67374568  0.54188898]\n",
      "\n",
      "Epoch: 630 \n",
      "MSE: 0.08997575274257433, \n",
      "Coefs: [ 0.68935171  0.54079536]\n",
      "\n",
      "Epoch: 640 \n",
      "MSE: 0.08533898508782385, \n",
      "Coefs: [ 0.7045503   0.53973029]\n",
      "\n",
      "Epoch: 650 \n",
      "MSE: 0.08094116641242402, \n",
      "Coefs: [ 0.7193521   0.53869303]\n",
      "\n",
      "Epoch: 660 \n",
      "MSE: 0.07676998283330269, \n",
      "Coefs: [ 0.73376746  0.53768285]\n",
      "\n",
      "Epoch: 670 \n",
      "MSE: 0.07281375504518241, \n",
      "Coefs: [ 0.74780646  0.53669904]\n",
      "\n",
      "Epoch: 680 \n",
      "MSE: 0.06906140561854998, \n",
      "Coefs: [ 0.76147895  0.53574092]\n",
      "\n",
      "Epoch: 690 \n",
      "MSE: 0.0655024279828765, \n",
      "Coefs: [ 0.77479448  0.53480781]\n",
      "\n",
      "Epoch: 700 \n",
      "MSE: 0.06212685700824312, \n",
      "Coefs: [ 0.78776237  0.53389906]\n",
      "\n",
      "Epoch: 710 \n",
      "MSE: 0.058925241102996996, \n",
      "Coefs: [ 0.8003917   0.53301404]\n",
      "\n",
      "Epoch: 720 \n",
      "MSE: 0.05588861574931466, \n",
      "Coefs: [ 0.81269131  0.53215213]\n",
      "\n",
      "Epoch: 730 \n",
      "MSE: 0.0530084784025718, \n",
      "Coefs: [ 0.82466981  0.53131271]\n",
      "\n",
      "Epoch: 740 \n",
      "MSE: 0.05027676468423481, \n",
      "Coefs: [ 0.83633558  0.53049521]\n",
      "\n",
      "Epoch: 750 \n",
      "MSE: 0.04768582580161901, \n",
      "Coefs: [ 0.84769678  0.52969906]\n",
      "\n",
      "Epoch: 760 \n",
      "MSE: 0.045228407131284495, \n",
      "Coefs: [ 0.85876137  0.52892369]\n",
      "\n",
      "Epoch: 770 \n",
      "MSE: 0.04289762790610553, \n",
      "Coefs: [ 0.86953709  0.52816856]\n",
      "\n",
      "Epoch: 780 \n",
      "MSE: 0.040686961949137825, \n",
      "Coefs: [ 0.88003148  0.52743315]\n",
      "\n",
      "Epoch: 790 \n",
      "MSE: 0.03859021940033608, \n",
      "Coefs: [ 0.89025189  0.52671693]\n",
      "\n",
      "Epoch: 800 \n",
      "MSE: 0.03660152938495879, \n",
      "Coefs: [ 0.90020547  0.52601942]\n",
      "\n",
      "Epoch: 810 \n",
      "MSE: 0.03471532357513209, \n",
      "Coefs: [ 0.90989919  0.52534012]\n",
      "\n",
      "Epoch: 820 \n",
      "MSE: 0.03292632059854224, \n",
      "Coefs: [ 0.91933983  0.52467855]\n",
      "\n",
      "Epoch: 830 \n",
      "MSE: 0.031229511250605295, \n",
      "Coefs: [ 0.92853399  0.52403425]\n",
      "\n",
      "Epoch: 840 \n",
      "MSE: 0.02962014446870397, \n",
      "Coefs: [ 0.93748812  0.52340678]\n",
      "\n",
      "Epoch: 850 \n",
      "MSE: 0.028093714029222377, \n",
      "Coefs: [ 0.94620847  0.52279568]\n",
      "\n",
      "Epoch: 860 \n",
      "MSE: 0.026645945930130154, \n",
      "Coefs: [ 0.95470116  0.52220054]\n",
      "\n",
      "Epoch: 870 \n",
      "MSE: 0.02527278642378472, \n",
      "Coefs: [ 0.96297213  0.52162094]\n",
      "\n",
      "Epoch: 880 \n",
      "MSE: 0.02397039066644675, \n",
      "Coefs: [ 0.97102716  0.52105647]\n",
      "\n",
      "Epoch: 890 \n",
      "MSE: 0.02273511195272591, \n",
      "Coefs: [ 0.9788719   0.52050674]\n",
      "\n",
      "Epoch: 900 \n",
      "MSE: 0.02156349150481324, \n",
      "Coefs: [ 0.98651182  0.51997136]\n",
      "\n",
      "Epoch: 910 \n",
      "MSE: 0.02045224878791082, \n",
      "Coefs: [ 0.99395229  0.51944995]\n",
      "\n",
      "Epoch: 920 \n",
      "MSE: 0.019398272324740572, \n",
      "Coefs: [ 1.00119851  0.51894216]\n",
      "\n",
      "Epoch: 930 \n",
      "MSE: 0.018398610983415237, \n",
      "Coefs: [ 1.00825554  0.51844763]\n",
      "\n",
      "Epoch: 940 \n",
      "MSE: 0.017450465714274638, \n",
      "Coefs: [ 1.01512833  0.51796601]\n",
      "\n",
      "Epoch: 950 \n",
      "MSE: 0.016551181712552814, \n",
      "Coefs: [ 1.02182169  0.51749696]\n",
      "\n",
      "Epoch: 960 \n",
      "MSE: 0.01569824098492998, \n",
      "Coefs: [ 1.0283403   0.51704015]\n",
      "\n",
      "Epoch: 970 \n",
      "MSE: 0.014889255299156873, \n",
      "Coefs: [ 1.03468873  0.51659528]\n",
      "\n",
      "Epoch: 980 \n",
      "MSE: 0.014121959497009179, \n",
      "Coefs: [ 1.04087142  0.51616201]\n",
      "\n",
      "Epoch: 990 \n",
      "MSE: 0.013394205151849465, \n",
      "Coefs: [ 1.04689269  0.51574006]\n",
      "\n"
     ]
    }
   ],
   "source": [
    "gd.fit()"
   ]
  },
  {
   "cell_type": "code",
   "execution_count": 22,
   "metadata": {},
   "outputs": [
    {
     "data": {
      "text/plain": [
       "array([ 1.05275676,  0.51532913])"
      ]
     },
     "execution_count": 22,
     "metadata": {},
     "output_type": "execute_result"
    }
   ],
   "source": [
    "gd.coef_"
   ]
  },
  {
   "cell_type": "code",
   "execution_count": 23,
   "metadata": {},
   "outputs": [
    {
     "data": {
      "image/png": "[encoded data removed]",
      "text/plain": [
       "<matplotlib.figure.Figure at 0x10fc15fd0>"
      ]
     },
     "metadata": {},
     "output_type": "display_data"
    }
   ],
   "source": [
    "plot(X, y, gd)\n",
    "plt.title('Intitialization');"
   ]
  },
  {
   "cell_type": "markdown",
   "metadata": {},
   "source": [
    "---"
   ]
  },
  {
   "cell_type": "markdown",
   "metadata": {},
   "source": [
    "## Side-by-Side"
   ]
  },
  {
   "cell_type": "code",
   "execution_count": 24,
   "metadata": {},
   "outputs": [
    {
     "data": {
      "text/html": [
       "<div>\n",
       "<style>\n",
       "    .dataframe thead tr:only-child th {\n",
       "        text-align: right;\n",
       "    }\n",
       "\n",
       "    .dataframe thead th {\n",
       "        text-align: left;\n",
       "    }\n",
       "\n",
       "    .dataframe tbody tr th {\n",
       "        vertical-align: top;\n",
       "    }\n",
       "</style>\n",
       "<table border=\"1\" class=\"dataframe\">\n",
       "  <thead>\n",
       "    <tr style=\"text-align: right;\">\n",
       "      <th></th>\n",
       "      <th>analytic</th>\n",
       "      <th>scipy</th>\n",
       "      <th>sklearn</th>\n",
       "      <th>grad desc</th>\n",
       "    </tr>\n",
       "  </thead>\n",
       "  <tbody>\n",
       "    <tr>\n",
       "      <th>theta0</th>\n",
       "      <td>1.271505</td>\n",
       "      <td>1.271505</td>\n",
       "      <td>1.271505</td>\n",
       "      <td>1.052757</td>\n",
       "    </tr>\n",
       "    <tr>\n",
       "      <th>theta1</th>\n",
       "      <td>0.500000</td>\n",
       "      <td>0.500000</td>\n",
       "      <td>0.500000</td>\n",
       "      <td>0.515329</td>\n",
       "    </tr>\n",
       "  </tbody>\n",
       "</table>\n",
       "</div>"
      ],
      "text/plain": [
       "        analytic     scipy   sklearn  grad desc\n",
       "theta0  1.271505  1.271505  1.271505   1.052757\n",
       "theta1  0.500000  0.500000  0.500000   0.515329"
      ]
     },
     "execution_count": 24,
     "metadata": {},
     "output_type": "execute_result"
    }
   ],
   "source": [
    "# Compare Scratch & Sklearn coefficients\n",
    "import pandas as pd\n",
    "pd.DataFrame(data=np.matrix([la_coef, sp_coef, sklearn_coef, gd.coef_]).reshape(4, 2).T, \n",
    "             index = ['theta0', 'theta1'],\n",
    "             columns=['analytic', 'scipy', 'sklearn', 'grad desc'])"
   ]
  }
 ],
 "metadata": {
  "kernelspec": {
   "display_name": "Python [default]",
   "language": "python",
   "name": "python3"
  },
  "language_info": {
   "codemirror_mode": {
    "name": "ipython",
    "version": 3
   },
   "file_extension": ".py",
   "mimetype": "text/x-python",
   "name": "python",
   "nbconvert_exporter": "python",
   "pygments_lexer": "ipython3",
   "version": "3.5.4"
  }
 },
 "nbformat": 4,
 "nbformat_minor": 2
}
