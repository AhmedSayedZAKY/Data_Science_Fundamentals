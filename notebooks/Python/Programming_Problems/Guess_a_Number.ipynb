{
 "cells": [
  {
   "cell_type": "markdown",
   "metadata": {},
   "source": [
    "### Write a function that takes in a number between 1 and 100 and tries to guess it. Based on whether a guess is larger or smaller than the input number, the code would come up with a new guess until it gets it right."
   ]
  },
  {
   "cell_type": "code",
   "execution_count": 1,
   "metadata": {},
   "outputs": [],
   "source": [
    "def guess(answer, small_int=0, large_int=100, verbose=False):\n",
    "    '''computer returns number of guesses required to determine user-defined integer'''\n",
    "    \n",
    "    # error checking\n",
    "    assert type(answer) == int, 'answer must be an integer'\n",
    "    #assert -1 < answer < 101, 'enter an integer between 1-100 inclusive'\n",
    "    \n",
    "    # useful functions\n",
    "    def new_guess(start, stop):\n",
    "        '''returns binary search value as updated guess'''\n",
    "        return (start+stop)//2\n",
    "    def checker(guess, answer):\n",
    "        '''check if guess equals answer'''\n",
    "        return True if guess == answer else 'bigger' if guess < answer else 'smaller'\n",
    "    \n",
    "    # setup\n",
    "    start = small_int\n",
    "    stop = large_int\n",
    "    guesses = 0\n",
    "    \n",
    "    # main logic\n",
    "    while True:\n",
    "        guesses += 1\n",
    "        guess = new_guess(start, stop)\n",
    "        check = checker(guess, answer)\n",
    "        if verbose:\n",
    "            print('guess: {}'.format(guess))\n",
    "        if check == True:\n",
    "            return print('{} guess'.format(guesses)) \\\n",
    "                if guesses == 1 else print('\\n{} guesses'.format(guesses))\n",
    "            break\n",
    "        else:\n",
    "            if check == 'smaller':\n",
    "                stop = guess\n",
    "            else:\n",
    "                start = guess"
   ]
  },
  {
   "cell_type": "markdown",
   "metadata": {},
   "source": [
    "---"
   ]
  },
  {
   "cell_type": "markdown",
   "metadata": {},
   "source": [
    "#### Example #1"
   ]
  },
  {
   "cell_type": "code",
   "execution_count": 2,
   "metadata": {},
   "outputs": [
    {
     "name": "stdout",
     "output_type": "stream",
     "text": [
      "1 guess\n"
     ]
    }
   ],
   "source": [
    "guess(50, verbose=False)"
   ]
  },
  {
   "cell_type": "code",
   "execution_count": 3,
   "metadata": {},
   "outputs": [
    {
     "name": "stdout",
     "output_type": "stream",
     "text": [
      "guess: 50\n",
      "guess: 75\n",
      "guess: 87\n",
      "guess: 81\n",
      "guess: 78\n",
      "guess: 79\n",
      "guess: 80\n",
      "\n",
      "7 guesses\n"
     ]
    }
   ],
   "source": [
    "guess(80, verbose=True)"
   ]
  },
  {
   "cell_type": "markdown",
   "metadata": {},
   "source": [
    "#### Example #2"
   ]
  },
  {
   "cell_type": "code",
   "execution_count": 4,
   "metadata": {},
   "outputs": [
    {
     "name": "stdout",
     "output_type": "stream",
     "text": [
      "\n",
      "7 guesses\n"
     ]
    }
   ],
   "source": [
    "guess(0, verbose=False)"
   ]
  },
  {
   "cell_type": "code",
   "execution_count": 5,
   "metadata": {},
   "outputs": [
    {
     "name": "stdout",
     "output_type": "stream",
     "text": [
      "guess: 50\n",
      "guess: 25\n",
      "guess: 12\n",
      "guess: 6\n",
      "guess: 3\n",
      "guess: 1\n",
      "guess: 0\n",
      "\n",
      "7 guesses\n"
     ]
    }
   ],
   "source": [
    "guess(0, verbose=True)"
   ]
  },
  {
   "cell_type": "markdown",
   "metadata": {},
   "source": [
    "#### Example #3"
   ]
  },
  {
   "cell_type": "code",
   "execution_count": 6,
   "metadata": {},
   "outputs": [
    {
     "name": "stdout",
     "output_type": "stream",
     "text": [
      "guess: 500\n",
      "guess: 250\n",
      "guess: 125\n",
      "guess: 62\n",
      "guess: 93\n",
      "guess: 109\n",
      "guess: 117\n",
      "guess: 121\n",
      "guess: 119\n",
      "guess: 120\n",
      "\n",
      "10 guesses\n"
     ]
    }
   ],
   "source": [
    "guess(120, small_int=0, large_int=1000, verbose=True)"
   ]
  },
  {
   "cell_type": "markdown",
   "metadata": {},
   "source": [
    "---"
   ]
  },
  {
   "cell_type": "markdown",
   "metadata": {},
   "source": [
    "## What's the maximum number of guesses we could possibly need?"
   ]
  },
  {
   "cell_type": "code",
   "execution_count": 7,
   "metadata": {
    "collapsed": true
   },
   "outputs": [],
   "source": [
    "def howManyGuesses(start, stop):\n",
    "    '''returns total number of guesses for binary search given start and stop values'''\n",
    "    \n",
    "    # inclusive of both ends\n",
    "    how_many_numbers = stop - start + 1\n",
    "    \n",
    "    # main logic\n",
    "    num_guesses = 1\n",
    "    while 2**num_guesses < how_many_numbers:\n",
    "        num_guesses += 1\n",
    "    return num_guesses"
   ]
  },
  {
   "cell_type": "code",
   "execution_count": 8,
   "metadata": {},
   "outputs": [
    {
     "name": "stdout",
     "output_type": "stream",
     "text": [
      "It will take no more than 7 guesses\n"
     ]
    }
   ],
   "source": [
    "print('It will take no more than %d guesses' % howManyGuesses(0, 100))"
   ]
  },
  {
   "cell_type": "code",
   "execution_count": 9,
   "metadata": {},
   "outputs": [
    {
     "name": "stdout",
     "output_type": "stream",
     "text": [
      "It will take no more than 20 guesses\n"
     ]
    }
   ],
   "source": [
    "print('It will take no more than %d guesses' % howManyGuesses(0, int(1e6)))"
   ]
  },
  {
   "cell_type": "markdown",
   "metadata": {},
   "source": [
    "---"
   ]
  },
  {
   "cell_type": "markdown",
   "metadata": {},
   "source": [
    "## Plot number of guesses as function of guess space "
   ]
  },
  {
   "cell_type": "code",
   "execution_count": 10,
   "metadata": {
    "collapsed": true
   },
   "outputs": [],
   "source": [
    "%matplotlib inline\n",
    "import matplotlib.pyplot as plt\n",
    "import numpy as np"
   ]
  },
  {
   "cell_type": "code",
   "execution_count": 11,
   "metadata": {},
   "outputs": [
    {
     "data": {
      "text/plain": [
       "array([  1.00000000e+00,   1.00000000e+01,   1.00000000e+02,\n",
       "         1.00000000e+03,   1.00000000e+04,   1.00000000e+05,\n",
       "         1.00000000e+06,   1.00000000e+07,   1.00000000e+08,\n",
       "         1.00000000e+09])"
      ]
     },
     "execution_count": 11,
     "metadata": {},
     "output_type": "execute_result"
    }
   ],
   "source": [
    "num_numbers = np.geomspace(1, 1e9, num=10)\n",
    "num_numbers"
   ]
  },
  {
   "cell_type": "code",
   "execution_count": 12,
   "metadata": {},
   "outputs": [
    {
     "data": {
      "text/plain": [
       "[1, 4, 7, 10, 14, 17, 20, 24, 27, 30]"
      ]
     },
     "execution_count": 12,
     "metadata": {},
     "output_type": "execute_result"
    }
   ],
   "source": [
    "guesses = [howManyGuesses(0,numbers) for numbers in num_numbers]\n",
    "guesses"
   ]
  },
  {
   "cell_type": "code",
   "execution_count": 13,
   "metadata": {},
   "outputs": [
    {
     "data": {
      "image/png": "[encoded data removed]",
      "text/plain": [
       "<matplotlib.figure.Figure at 0x110e5e978>"
      ]
     },
     "metadata": {},
     "output_type": "display_data"
    }
   ],
   "source": [
    "plt.plot(num_numbers, guesses)\n",
    "plt.xlabel('how many numbers to guess')\n",
    "plt.ylabel('# of actual guesses')\n",
    "plt.title('Binary Search Guesses ~ Guess Space');"
   ]
  },
  {
   "cell_type": "code",
   "execution_count": 14,
   "metadata": {},
   "outputs": [
    {
     "data": {
      "image/png": "[encoded data removed]",
      "text/plain": [
       "<matplotlib.figure.Figure at 0x110e5e518>"
      ]
     },
     "metadata": {},
     "output_type": "display_data"
    }
   ],
   "source": [
    "# x-axis on log scale\n",
    "plt.plot(num_numbers, guesses)\n",
    "plt.xlabel('how many numbers to guess')\n",
    "plt.ylabel('# of actual guesses')\n",
    "plt.title('Binary Search Guesses ~ Guess Space')\n",
    "plt.xscale('log');"
   ]
  }
 ],
 "metadata": {
  "kernelspec": {
   "display_name": "Python [conda root]",
   "language": "python",
   "name": "conda-root-py"
  },
  "language_info": {
   "codemirror_mode": {
    "name": "ipython",
    "version": 3
   },
   "file_extension": ".py",
   "mimetype": "text/x-python",
   "name": "python",
   "nbconvert_exporter": "python",
   "pygments_lexer": "ipython3",
   "version": "3.5.4"
  }
 },
 "nbformat": 4,
 "nbformat_minor": 2
}
