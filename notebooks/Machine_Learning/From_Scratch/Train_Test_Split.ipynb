{
 "cells": [
  {
   "cell_type": "code",
   "execution_count": 1,
   "metadata": {
    "collapsed": true
   },
   "outputs": [],
   "source": [
    "import numpy as np"
   ]
  },
  {
   "cell_type": "code",
   "execution_count": 2,
   "metadata": {},
   "outputs": [
    {
     "data": {
      "text/plain": [
       "array([[71, 36,  4, 82, 30, 21,  6, 86, 25, 64],\n",
       "       [88,  7, 46, 24, 45, 77, 45, 92, 24, 88],\n",
       "       [28, 85, 25, 26, 61, 76, 70, 83, 16, 62],\n",
       "       [38, 57, 84, 85, 62, 82, 91, 31, 20, 23],\n",
       "       [28, 54, 13, 44, 34, 23,  1, 71, 88, 21],\n",
       "       [62, 60,  0, 29,  8, 99, 82, 49, 45, 54],\n",
       "       [11, 16, 31, 99, 75, 48, 84, 52, 62, 39],\n",
       "       [47, 56, 35, 49, 41, 95, 40, 77, 30, 56],\n",
       "       [79, 91, 66, 78, 22, 50,  3, 57, 98, 92],\n",
       "       [97, 60, 21, 89, 17, 76, 25, 72, 22, 10]])"
      ]
     },
     "execution_count": 2,
     "metadata": {},
     "output_type": "execute_result"
    }
   ],
   "source": [
    "fake_data = np.random.randint(0,100,100).reshape(10,10)\n",
    "fake_data"
   ]
  },
  {
   "cell_type": "code",
   "execution_count": 65,
   "metadata": {},
   "outputs": [],
   "source": [
    "def train_test_split(data, shuffle=True, test_proportion=0.2, random_state=None):\n",
    "    '''return train and test sets'''\n",
    "    \n",
    "    # error checking\n",
    "    assert type(shuffle) == bool, 'shuffle must be True or False!'\n",
    "    if random_state != None:\n",
    "        assert type(random_state) == int, 'random_state must be an integer!'\n",
    "    \n",
    "    # reproducibility\n",
    "    if random_state:\n",
    "        np.random.seed(random_state)\n",
    "    \n",
    "    # setup indices\n",
    "    indices = np.arange(data.shape[0])\n",
    "    if shuffle:\n",
    "        np.random.shuffle(indices)\n",
    "    \n",
    "    # main logic\n",
    "    num_indices = len(indices)\n",
    "    split = int( np.floor(test_proportion * num_indices) )\n",
    "    train = data[indices[:split]]\n",
    "    test = data[indices[split:]]\n",
    "    \n",
    "    return train, test"
   ]
  },
  {
   "cell_type": "code",
   "execution_count": 67,
   "metadata": {},
   "outputs": [],
   "source": [
    "train, test = train_test_split(fake_data, shuffle=True, test_proportion=0.4, random_state=43)"
   ]
  },
  {
   "cell_type": "code",
   "execution_count": 68,
   "metadata": {},
   "outputs": [
    {
     "data": {
      "text/plain": [
       "array([[38, 57, 84, 85, 62, 82, 91, 31, 20, 23],\n",
       "       [97, 60, 21, 89, 17, 76, 25, 72, 22, 10],\n",
       "       [11, 16, 31, 99, 75, 48, 84, 52, 62, 39],\n",
       "       [79, 91, 66, 78, 22, 50,  3, 57, 98, 92]])"
      ]
     },
     "execution_count": 68,
     "metadata": {},
     "output_type": "execute_result"
    }
   ],
   "source": [
    "train"
   ]
  },
  {
   "cell_type": "code",
   "execution_count": 69,
   "metadata": {},
   "outputs": [
    {
     "data": {
      "text/plain": [
       "array([[28, 85, 25, 26, 61, 76, 70, 83, 16, 62],\n",
       "       [62, 60,  0, 29,  8, 99, 82, 49, 45, 54],\n",
       "       [88,  7, 46, 24, 45, 77, 45, 92, 24, 88],\n",
       "       [47, 56, 35, 49, 41, 95, 40, 77, 30, 56],\n",
       "       [71, 36,  4, 82, 30, 21,  6, 86, 25, 64],\n",
       "       [28, 54, 13, 44, 34, 23,  1, 71, 88, 21]])"
      ]
     },
     "execution_count": 69,
     "metadata": {},
     "output_type": "execute_result"
    }
   ],
   "source": [
    "test"
   ]
  }
 ],
 "metadata": {
  "kernelspec": {
   "display_name": "Python [conda root]",
   "language": "python",
   "name": "conda-root-py"
  },
  "language_info": {
   "codemirror_mode": {
    "name": "ipython",
    "version": 3
   },
   "file_extension": ".py",
   "mimetype": "text/x-python",
   "name": "python",
   "nbconvert_exporter": "python",
   "pygments_lexer": "ipython3",
   "version": "3.5.4"
  }
 },
 "nbformat": 4,
 "nbformat_minor": 2
}
