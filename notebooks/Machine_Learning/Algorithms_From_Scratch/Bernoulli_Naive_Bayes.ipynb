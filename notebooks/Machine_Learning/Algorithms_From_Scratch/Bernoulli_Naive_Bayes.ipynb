{
 "cells": [
  {
   "cell_type": "code",
   "execution_count": 1,
   "metadata": {},
   "outputs": [],
   "source": [
    "import numpy as np"
   ]
  },
  {
   "cell_type": "code",
   "execution_count": 2,
   "metadata": {},
   "outputs": [],
   "source": [
    "def create_dataset(n_rows=10, n_cols=2, prob=(0.5, 0.5), seed=None):\n",
    "    '''\n",
    "    creates a 2D numpy array with 0s and 1s for columns\n",
    "    \n",
    "    INPUT:\n",
    "        n_rows = (int) number of rows in dataset\n",
    "        n_cols = (int) number of columns starting with target followed by features\n",
    "        prob = (tuple) probability of success for target, feature 1, feature 2, ..., feature n\n",
    "    OUTPUT:\n",
    "        dataset (numpy array)\n",
    "    '''\n",
    "    # error handling\n",
    "    assert type(n_rows) == int, 'n_rows must be an integer'\n",
    "    assert type(n_cols) == int, 'n_cols must be an integer'\n",
    "    assert type(prob) == tuple, 'prob must be a tuple of probabilities'\n",
    "    assert len(prob) == n_cols, 'tuple must contain probabilities for each n_col'\n",
    "    assert type(seed) == int, 'seed must be an integer'\n",
    "    \n",
    "    # reproducibility\n",
    "    if seed:\n",
    "        np.random.seed(seed)\n",
    "        \n",
    "    # create dataset\n",
    "    for i, p in enumerate(prob):\n",
    "        if i < 1:\n",
    "            dataset = np.random.binomial(n=1, p=prob[i], size=n_rows)\n",
    "        else:\n",
    "            column = np.random.binomial(n=1, p=prob[i], size=n_rows)\n",
    "            dataset = np.c_[dataset, column]\n",
    "    \n",
    "    return dataset"
   ]
  },
  {
   "cell_type": "code",
   "execution_count": 3,
   "metadata": {},
   "outputs": [],
   "source": [
    "probabilities = (0.5, 0.5, 0.5, 0.5)\n",
    "data = create_dataset(n_rows=4, n_cols=4, prob=probabilities, seed=42)"
   ]
  },
  {
   "cell_type": "code",
   "execution_count": 4,
   "metadata": {},
   "outputs": [
    {
     "data": {
      "text/plain": [
       "array([[0, 0, 1, 1],\n",
       "       [1, 0, 1, 0],\n",
       "       [1, 0, 0, 0],\n",
       "       [1, 1, 1, 0]])"
      ]
     },
     "execution_count": 4,
     "metadata": {},
     "output_type": "execute_result"
    }
   ],
   "source": [
    "data"
   ]
  },
  {
   "cell_type": "code",
   "execution_count": 5,
   "metadata": {},
   "outputs": [],
   "source": [
    "X = data[:, 1:]\n",
    "y = data[:, 0]"
   ]
  },
  {
   "cell_type": "code",
   "execution_count": 6,
   "metadata": {},
   "outputs": [
    {
     "data": {
      "text/plain": [
       "array([[0, 1, 1],\n",
       "       [0, 1, 0],\n",
       "       [0, 0, 0],\n",
       "       [1, 1, 0]])"
      ]
     },
     "execution_count": 6,
     "metadata": {},
     "output_type": "execute_result"
    }
   ],
   "source": [
    "X"
   ]
  },
  {
   "cell_type": "code",
   "execution_count": 7,
   "metadata": {},
   "outputs": [
    {
     "data": {
      "text/plain": [
       "array([[False,  True,  True],\n",
       "       [False,  True, False],\n",
       "       [False, False, False],\n",
       "       [ True,  True, False]], dtype=bool)"
      ]
     },
     "execution_count": 7,
     "metadata": {},
     "output_type": "execute_result"
    }
   ],
   "source": [
    "np.isin(X, 1)"
   ]
  },
  {
   "cell_type": "code",
   "execution_count": 8,
   "metadata": {},
   "outputs": [
    {
     "data": {
      "text/plain": [
       "2"
      ]
     },
     "execution_count": 8,
     "metadata": {},
     "output_type": "execute_result"
    }
   ],
   "source": [
    "len(np.unique(y))"
   ]
  },
  {
   "cell_type": "code",
   "execution_count": 22,
   "metadata": {},
   "outputs": [],
   "source": [
    "class BernoulliNB:\n",
    "    \n",
    "    \n",
    "    def __init__(self):\n",
    "        self.prob_target_success_ = None\n",
    "        self.prob_target_failure_ = None\n",
    "     \n",
    "    \n",
    "    def _reshape(self, X):\n",
    "        '''converts array to appropriate dimensions'''\n",
    "        try:\n",
    "            n_cols = X.shape[1]\n",
    "        except:\n",
    "            n_cols = X.reshape(-1,1)\n",
    "        return n_cols\n",
    "    \n",
    "    \n",
    "    def fit(self, X, y):\n",
    "        '''calculate priors and likelihoods'''\n",
    "        # setup\n",
    "        n_classes = len(np.unique(y))\n",
    "        n_cols = self._reshape(X)\n",
    "        \n",
    "        # priors (target)\n",
    "        self.prob_target_success_ = np.mean(y)\n",
    "        self.prob_target_failure_ = 1 - self.prob_target_success_\n",
    "        \n",
    "        # likelihoods (features)\n",
    "        #*******************************\n",
    "        # Cleanup w/vectorized version *\n",
    "        #*******************************\n",
    "        self.prob_features_ = np.zeros((2, n_cols), dtype=float)\n",
    "        for i in range(n_classes):\n",
    "            for j in range(n_cols):\n",
    "                column = X[:,j]\n",
    "                self.prob_features_[i,j] = np.mean(y[column==i])\n",
    "    \n",
    "    \n",
    "    def predict(self, X):\n",
    "        '''return most likely class'''\n",
    "        X = np.array(X)\n",
    "        rows = X.shape[0]\n",
    "        n_cols = self._reshape(X)\n",
    "            \n",
    "        probabilities = self.prob_features_[X, np.arange(rows)]\n",
    "        print(probabilities)\n",
    "        return np.prod(probabilities)\n",
    "        # mask to filter success & failure probabilities\n",
    "        #feature_mask_success = np.where(np.array(X)==1) \n",
    "        #feature_mask_failure = np.where(np.array(X)==0)\n",
    "        \n",
    "        # filter probabilities\n",
    "        #feature_success = self.prob_feature_success_[feature_mask_success]\n",
    "        #feature_failure = self.prob_feature_failure_[feature_mask_failure]\n",
    "        \n",
    "        # calculate posterior probability\n",
    "        #success = self.prob_target_success_ * np.prod(feature_success)\n",
    "        #failure = self.prob_target_failure_ * np.prod(feature_failure)\n",
    "        \n",
    "        # show posterior probability by class \n",
    "        #print('P(failure): {} | P(success): {}'.format(failure, success))\n",
    "        \n",
    "        #return np.argmax( np.array([failure, success]) )"
   ]
  },
  {
   "cell_type": "code",
   "execution_count": 23,
   "metadata": {},
   "outputs": [],
   "source": [
    "nb = BernoulliNB()\n",
    "nb.fit(X,y)"
   ]
  },
  {
   "cell_type": "code",
   "execution_count": 24,
   "metadata": {},
   "outputs": [
    {
     "name": "stdout",
     "output_type": "stream",
     "text": [
      "[ 1.  1.  1.]\n"
     ]
    },
    {
     "data": {
      "text/plain": [
       "1.0"
      ]
     },
     "execution_count": 24,
     "metadata": {},
     "output_type": "execute_result"
    }
   ],
   "source": [
    "nb.predict([1,0,0])"
   ]
  },
  {
   "cell_type": "code",
   "execution_count": 25,
   "metadata": {},
   "outputs": [
    {
     "data": {
      "text/plain": [
       "array([[ 0.66666667,  1.        ,  1.        ],\n",
       "       [ 1.        ,  0.66666667,  0.        ]])"
      ]
     },
     "execution_count": 25,
     "metadata": {},
     "output_type": "execute_result"
    }
   ],
   "source": [
    "nb.prob_features_"
   ]
  },
  {
   "cell_type": "code",
   "execution_count": 29,
   "metadata": {},
   "outputs": [
    {
     "data": {
      "text/plain": [
       "array([[0, 0, 1, 1],\n",
       "       [1, 0, 1, 0],\n",
       "       [1, 0, 0, 0],\n",
       "       [1, 1, 1, 0]])"
      ]
     },
     "execution_count": 29,
     "metadata": {},
     "output_type": "execute_result"
    }
   ],
   "source": [
    "data"
   ]
  },
  {
   "cell_type": "code",
   "execution_count": null,
   "metadata": {},
   "outputs": [],
   "source": []
  },
  {
   "cell_type": "code",
   "execution_count": 26,
   "metadata": {},
   "outputs": [
    {
     "data": {
      "text/plain": [
       "array([0, 1, 1])"
      ]
     },
     "execution_count": 26,
     "metadata": {},
     "output_type": "execute_result"
    }
   ],
   "source": [
    "test = np.array([0,1,1])\n",
    "test"
   ]
  },
  {
   "cell_type": "code",
   "execution_count": null,
   "metadata": {},
   "outputs": [],
   "source": []
  },
  {
   "cell_type": "code",
   "execution_count": null,
   "metadata": {},
   "outputs": [],
   "source": []
  },
  {
   "cell_type": "code",
   "execution_count": 27,
   "metadata": {},
   "outputs": [
    {
     "data": {
      "text/plain": [
       "array([ 0.66666667,  0.66666667,  0.        ])"
      ]
     },
     "execution_count": 27,
     "metadata": {},
     "output_type": "execute_result"
    }
   ],
   "source": [
    "nb.prob_features_[test, np.arange(len(test))]"
   ]
  },
  {
   "cell_type": "code",
   "execution_count": null,
   "metadata": {},
   "outputs": [],
   "source": []
  },
  {
   "cell_type": "code",
   "execution_count": null,
   "metadata": {},
   "outputs": [],
   "source": []
  },
  {
   "cell_type": "code",
   "execution_count": 15,
   "metadata": {},
   "outputs": [
    {
     "data": {
      "text/plain": [
       "array([[0, 1],\n",
       "       [0, 2],\n",
       "       [1, 1],\n",
       "       [3, 0],\n",
       "       [3, 1]])"
      ]
     },
     "execution_count": 15,
     "metadata": {},
     "output_type": "execute_result"
    }
   ],
   "source": [
    "np.argwhere(X)"
   ]
  },
  {
   "cell_type": "code",
   "execution_count": 16,
   "metadata": {},
   "outputs": [
    {
     "data": {
      "text/plain": [
       "<function numpy.lib.shape_base.split>"
      ]
     },
     "execution_count": 16,
     "metadata": {},
     "output_type": "execute_result"
    }
   ],
   "source": [
    "np.split"
   ]
  },
  {
   "cell_type": "code",
   "execution_count": null,
   "metadata": {},
   "outputs": [],
   "source": []
  }
 ],
 "metadata": {
  "kernelspec": {
   "display_name": "Python [conda root]",
   "language": "python",
   "name": "conda-root-py"
  },
  "language_info": {
   "codemirror_mode": {
    "name": "ipython",
    "version": 3
   },
   "file_extension": ".py",
   "mimetype": "text/x-python",
   "name": "python",
   "nbconvert_exporter": "python",
   "pygments_lexer": "ipython3",
   "version": "3.5.4"
  }
 },
 "nbformat": 4,
 "nbformat_minor": 2
}
