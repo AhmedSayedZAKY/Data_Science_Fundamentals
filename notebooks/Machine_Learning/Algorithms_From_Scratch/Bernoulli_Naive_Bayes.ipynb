{
 "cells": [
  {
   "cell_type": "code",
   "execution_count": 1,
   "metadata": {},
   "outputs": [],
   "source": [
    "import numpy as np"
   ]
  },
  {
   "cell_type": "code",
   "execution_count": 2,
   "metadata": {},
   "outputs": [],
   "source": [
    "def create_dataset(n_rows=10, n_cols=2, prob=(0.5, 0.5), seed=None):\n",
    "    '''\n",
    "    creates a 2D numpy array with 0s and 1s for columns\n",
    "    \n",
    "    INPUT:\n",
    "        n_rows = (int) number of rows in dataset\n",
    "        n_cols = (int) number of columns starting with target followed by features\n",
    "        prob = (tuple) probability of success for target, feature 1, feature 2, ..., feature n\n",
    "    OUTPUT:\n",
    "        dataset (numpy array)\n",
    "    '''\n",
    "    # error handling\n",
    "    assert type(n_rows) == int, 'n_rows must be an integer'\n",
    "    assert type(n_cols) == int, 'n_cols must be an integer'\n",
    "    assert type(prob) == tuple, 'prob must be a tuple of probabilities'\n",
    "    assert len(prob) == n_cols, 'tuple must contain probabilities for each n_col'\n",
    "    assert type(seed) == int, 'seed must be an integer'\n",
    "    \n",
    "    # reproducibility\n",
    "    if seed:\n",
    "        np.random.seed(seed)\n",
    "        \n",
    "    # create dataset\n",
    "    for i, p in enumerate(prob):\n",
    "        if i < 1:\n",
    "            dataset = np.random.binomial(n=1, p=prob[i], size=n_rows)\n",
    "        else:\n",
    "            column = np.random.binomial(n=1, p=prob[i], size=n_rows)\n",
    "            dataset = np.c_[dataset, column]\n",
    "    \n",
    "    return dataset"
   ]
  },
  {
   "cell_type": "code",
   "execution_count": 43,
   "metadata": {},
   "outputs": [],
   "source": [
    "probabilities = (0.5, 0.5, 0.5)\n",
    "data = create_dataset(n_rows=3, n_cols=3, prob=probabilities, seed=42)"
   ]
  },
  {
   "cell_type": "code",
   "execution_count": 44,
   "metadata": {},
   "outputs": [
    {
     "data": {
      "text/plain": [
       "array([[0, 1, 0],\n",
       "       [1, 0, 1],\n",
       "       [1, 0, 1]])"
      ]
     },
     "execution_count": 44,
     "metadata": {},
     "output_type": "execute_result"
    }
   ],
   "source": [
    "data"
   ]
  },
  {
   "cell_type": "code",
   "execution_count": 45,
   "metadata": {},
   "outputs": [],
   "source": [
    "X = data[:, 1:]\n",
    "y = data[:, 0]"
   ]
  },
  {
   "cell_type": "code",
   "execution_count": 239,
   "metadata": {},
   "outputs": [],
   "source": [
    "class BernoulliNB:\n",
    "    \n",
    "    def __init__(self):\n",
    "        self.prob_target_success_ = None\n",
    "        self.prob_target_failure_ = None\n",
    "    \n",
    "    def fit(self, X, y):\n",
    "        # target\n",
    "        self.prob_target_success_ = np.mean(y)\n",
    "        self.prob_target_failure_ = 1 - self.prob_target_success_\n",
    "        # features\n",
    "        self.prob_feature_success_ = np.mean(X, axis=0)\n",
    "        self.prob_feature_failure_ = 1 - self.prob_feature_success_\n",
    "    \n",
    "    def predict(self, X):\n",
    "        # mask to filter success & failure probabilities\n",
    "        feature_mask_success = np.where(np.array(X)==1) \n",
    "        feature_mask_failure = np.where(np.array(X)==0)\n",
    "        \n",
    "        # filter probabilities\n",
    "        feature_success = self.prob_feature_success_[feature_mask_success]\n",
    "        feature_failure = self.prob_feature_failure_[feature_mask_failure]\n",
    "        \n",
    "        # calculate posterior probability\n",
    "        success = self.prob_target_success_ * np.prod(feature_success)\n",
    "        failure = self.prob_target_failure_ * np.prod(feature_failure)\n",
    "        \n",
    "        # show posterior probability by class \n",
    "        print('P(failure): {} | P(success): {}'.format(failure, success))\n",
    "        \n",
    "        return np.argmax( np.array([failure, success]) )"
   ]
  },
  {
   "cell_type": "code",
   "execution_count": 240,
   "metadata": {},
   "outputs": [],
   "source": [
    "nb = BernoulliNB()\n",
    "nb.fit(X,y)"
   ]
  },
  {
   "cell_type": "code",
   "execution_count": 241,
   "metadata": {},
   "outputs": [],
   "source": [
    "test = np.array([0,0,1,1]).reshape(2,2)"
   ]
  },
  {
   "cell_type": "code",
   "execution_count": 242,
   "metadata": {},
   "outputs": [
    {
     "name": "stdout",
     "output_type": "stream",
     "text": [
      "P(failure): 0.22222222222222227 | P(success): 0.4444444444444444\n"
     ]
    },
    {
     "data": {
      "text/plain": [
       "1"
      ]
     },
     "execution_count": 242,
     "metadata": {},
     "output_type": "execute_result"
    }
   ],
   "source": [
    "nb.predict([0,1])"
   ]
  },
  {
   "cell_type": "code",
   "execution_count": null,
   "metadata": {},
   "outputs": [],
   "source": []
  }
 ],
 "metadata": {
  "kernelspec": {
   "display_name": "Python [conda root]",
   "language": "python",
   "name": "conda-root-py"
  },
  "language_info": {
   "codemirror_mode": {
    "name": "ipython",
    "version": 3
   },
   "file_extension": ".py",
   "mimetype": "text/x-python",
   "name": "python",
   "nbconvert_exporter": "python",
   "pygments_lexer": "ipython3",
   "version": "3.5.4"
  }
 },
 "nbformat": 4,
 "nbformat_minor": 2
}
