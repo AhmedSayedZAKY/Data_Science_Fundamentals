{
 "cells": [
  {
   "cell_type": "code",
   "execution_count": 1,
   "metadata": {},
   "outputs": [],
   "source": [
    "import numpy as np"
   ]
  },
  {
   "cell_type": "markdown",
   "metadata": {},
   "source": [
    "## Bootstrap"
   ]
  },
  {
   "cell_type": "code",
   "execution_count": 2,
   "metadata": {},
   "outputs": [],
   "source": [
    "class Bootstrap:\n",
    "    \n",
    "    def create_dataset(self, X, y, seed=None):\n",
    "        '''creates bootstrapped dataset'''\n",
    "        if seed:\n",
    "            np.random.seed(seed)\n",
    "        n_rows = len(X)\n",
    "        indices = np.arange(n_rows)\n",
    "        indices = np.random.choice(indices, size=n_rows, replace=True)\n",
    "        return X[indices], y[indices]"
   ]
  },
  {
   "cell_type": "markdown",
   "metadata": {},
   "source": [
    "## Create Data"
   ]
  },
  {
   "cell_type": "code",
   "execution_count": 3,
   "metadata": {},
   "outputs": [],
   "source": [
    "bs = Bootstrap()"
   ]
  },
  {
   "cell_type": "code",
   "execution_count": 4,
   "metadata": {},
   "outputs": [
    {
     "data": {
      "text/plain": [
       "array([[0, 1, 9, 1, 4],\n",
       "       [7, 8, 8, 3, 7],\n",
       "       [4, 0, 0, 2, 1],\n",
       "       [0, 3, 6, 7, 9],\n",
       "       [9, 8, 7, 7, 9],\n",
       "       [8, 2, 3, 8, 3],\n",
       "       [6, 1, 7, 2, 8],\n",
       "       [7, 2, 1, 4, 0],\n",
       "       [0, 3, 1, 2, 4],\n",
       "       [2, 7, 1, 4, 6]])"
      ]
     },
     "execution_count": 4,
     "metadata": {},
     "output_type": "execute_result"
    }
   ],
   "source": [
    "X = np.random.randint(0,10,50).reshape(10,5)\n",
    "X"
   ]
  },
  {
   "cell_type": "code",
   "execution_count": 5,
   "metadata": {},
   "outputs": [
    {
     "data": {
      "text/plain": [
       "array([1, 0, 0, 0, 0, 1, 1, 0, 0, 1])"
      ]
     },
     "execution_count": 5,
     "metadata": {},
     "output_type": "execute_result"
    }
   ],
   "source": [
    "y = np.random.binomial(1, 0.5, 10)\n",
    "y"
   ]
  },
  {
   "cell_type": "markdown",
   "metadata": {},
   "source": [
    "### Example"
   ]
  },
  {
   "cell_type": "code",
   "execution_count": 6,
   "metadata": {},
   "outputs": [],
   "source": [
    "bs = Bootstrap()\n",
    "X, y = bs.create_dataset(X,y)"
   ]
  },
  {
   "cell_type": "code",
   "execution_count": 7,
   "metadata": {},
   "outputs": [
    {
     "data": {
      "text/plain": [
       "array([[8, 2, 3, 8, 3],\n",
       "       [7, 8, 8, 3, 7],\n",
       "       [7, 2, 1, 4, 0],\n",
       "       [0, 3, 6, 7, 9],\n",
       "       [4, 0, 0, 2, 1],\n",
       "       [0, 3, 1, 2, 4],\n",
       "       [6, 1, 7, 2, 8],\n",
       "       [7, 2, 1, 4, 0],\n",
       "       [2, 7, 1, 4, 6],\n",
       "       [8, 2, 3, 8, 3]])"
      ]
     },
     "execution_count": 7,
     "metadata": {},
     "output_type": "execute_result"
    }
   ],
   "source": [
    "X"
   ]
  },
  {
   "cell_type": "code",
   "execution_count": 8,
   "metadata": {},
   "outputs": [
    {
     "data": {
      "text/plain": [
       "array([1, 0, 0, 0, 0, 0, 1, 0, 1, 1])"
      ]
     },
     "execution_count": 8,
     "metadata": {},
     "output_type": "execute_result"
    }
   ],
   "source": [
    "y"
   ]
  },
  {
   "cell_type": "markdown",
   "metadata": {},
   "source": [
    "## Bagging"
   ]
  },
  {
   "cell_type": "code",
   "execution_count": 9,
   "metadata": {},
   "outputs": [],
   "source": [
    "class Bagging(Bootstrap):\n",
    "    \n",
    "    def __init__(self):\n",
    "        self.estimator = None\n",
    "        \n",
    "    def simulate(self, estimator, X, y, n_datasets, seed=None):\n",
    "        if seed:\n",
    "            self.seed=seed\n",
    "        self.coefficients_ = []\n",
    "        for dataset in range(n_datasets):\n",
    "            X_, y_ = self.create_dataset(X, y, seed=self.seed)\n",
    "            self.estimator = estimator\n",
    "            self.estimator.fit(X_, y_)\n",
    "            self.coefficients_.append(self.estimator.coef_)\n",
    "            self.seed += 1"
   ]
  },
  {
   "cell_type": "markdown",
   "metadata": {},
   "source": [
    "### Example"
   ]
  },
  {
   "cell_type": "code",
   "execution_count": 10,
   "metadata": {},
   "outputs": [],
   "source": [
    "from sklearn.linear_model import LinearRegression\n",
    "lr = LinearRegression()"
   ]
  },
  {
   "cell_type": "code",
   "execution_count": 11,
   "metadata": {},
   "outputs": [],
   "source": [
    "bg = Bagging()\n",
    "bg.simulate(lr, X, y, n_datasets=20, seed=42)"
   ]
  },
  {
   "cell_type": "code",
   "execution_count": 12,
   "metadata": {},
   "outputs": [
    {
     "data": {
      "text/plain": [
       "[array([ 0.18075536, -0.29220824, -0.01403197,  0.10158558,  0.14698876]),\n",
       " array([ 0.32520325,  0.06504065, -0.62601626,  0.04878049,  0.57723577]),\n",
       " array([ 0.30775764, -0.051812  , -0.41732729,  0.0319932 ,  0.46630804]),\n",
       " array([ 0.05967078,  0.12962963, -0.18106996,  0.17078189,  0.01028807]),\n",
       " array([-0.06756757, -0.01351351, -0.59459459,  0.47297297,  0.12162162]),\n",
       " array([ 0.30741632,  0.24042869, -0.03135932,  0.02195831,  0.22248969]),\n",
       " array([ 0.30469716, -0.0723115 , -0.38071693,  0.02904821,  0.44684796]),\n",
       " array([ 0.13432836, -0.10447761, -0.24626866,  0.20895522,  0.36567164]),\n",
       " array([-0.25, -0.25,  0.5 ,  0.25, -0.25]),\n",
       " array([ 0.05633803,  0.03024027,  0.04391052,  0.08699254,  0.03024027]),\n",
       " array([ 0.37016575, -0.01104972, -0.63812155, -0.00828729,  0.64640884]),\n",
       " array([ 0.16489362, -0.03723404, -0.23404255,  0.07446809,  0.33510638]),\n",
       " array([ 0.1964996 , -0.0779634 , -0.3194113 ,  0.06404137,  0.39538584]),\n",
       " array([ 0.26560065, -0.06956628, -0.39629475, -0.00567002,  0.43680571]),\n",
       " array([ 0.01233184, -0.11547085,  0.03587444,  0.13901345,  0.11995516]),\n",
       " array([ 0.1964996 , -0.0779634 , -0.3194113 ,  0.06404137,  0.39538584]),\n",
       " array([ 0.32520325,  0.06504065, -0.62601626,  0.04878049,  0.57723577]),\n",
       " array([ 0.17233645,  0.32373832, -0.58485981,  0.24280374,  0.34205607]),\n",
       " array([ 0.31604828, -0.06168976, -0.42534645,  0.02257488,  0.48144837]),\n",
       " array([ 0.17233645,  0.32373832, -0.58485981,  0.24280374,  0.34205607])]"
      ]
     },
     "execution_count": 12,
     "metadata": {},
     "output_type": "execute_result"
    }
   ],
   "source": [
    "bg.coefficients_"
   ]
  },
  {
   "cell_type": "markdown",
   "metadata": {},
   "source": [
    "### Mean of Coefficients"
   ]
  },
  {
   "cell_type": "code",
   "execution_count": 13,
   "metadata": {},
   "outputs": [
    {
     "data": {
      "text/plain": [
       "array([ 0.17752574, -0.00287019, -0.30199819,  0.11538191,  0.31047679])"
      ]
     },
     "execution_count": 13,
     "metadata": {},
     "output_type": "execute_result"
    }
   ],
   "source": [
    "np.mean(bg.coefficients_, axis=0)"
   ]
  },
  {
   "cell_type": "markdown",
   "metadata": {},
   "source": [
    "### Standard Error of Coefficients"
   ]
  },
  {
   "cell_type": "code",
   "execution_count": 14,
   "metadata": {},
   "outputs": [
    {
     "data": {
      "text/plain": [
       "array([ 0.15152587,  0.15747603,  0.28881898,  0.1160515 ,  0.2182342 ])"
      ]
     },
     "execution_count": 14,
     "metadata": {},
     "output_type": "execute_result"
    }
   ],
   "source": [
    "np.std(bg.coefficients_, axis=0)"
   ]
  }
 ],
 "metadata": {
  "kernelspec": {
   "display_name": "Python [conda root]",
   "language": "python",
   "name": "conda-root-py"
  },
  "language_info": {
   "codemirror_mode": {
    "name": "ipython",
    "version": 3
   },
   "file_extension": ".py",
   "mimetype": "text/x-python",
   "name": "python",
   "nbconvert_exporter": "python",
   "pygments_lexer": "ipython3",
   "version": "3.5.4"
  }
 },
 "nbformat": 4,
 "nbformat_minor": 2
}
